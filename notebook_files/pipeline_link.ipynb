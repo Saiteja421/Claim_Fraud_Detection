{
  "cells": [
    {
      "cell_type": "code",
      "execution_count": null,
      "metadata": {
        "id": "BN2b38Deetbo"
      },
      "outputs": [],
      "source": [
        "import numpy as np\n",
        "import pandas  as pd\n",
        "import sklearn\n",
        "from sklearn.linear_model import LogisticRegression\n",
        "import matplotlib.pyplot as plt\n",
        "import seaborn as sns\n",
        "from sklearn.preprocessing import normalize\n",
        "from sklearn.metrics import confusion_matrix,f1_score,roc_curve,auc,log_loss\n",
        "from sklearn.model_selection import train_test_split\n",
        "from collections import Counter\n",
        "from imblearn.over_sampling import SMOTE\n",
        "from imblearn.under_sampling import RandomUnderSampler\n",
        "from sklearn.model_selection import GridSearchCV\n",
        "from sklearn.model_selection import RandomizedSearchCV\n",
        "from sklearn.calibration import CalibratedClassifierCV\n",
        "from sklearn.svm import SVC\n",
        "from sklearn.ensemble import RandomForestClassifier\n",
        "import lightgbm as lgb\n",
        "import joblib"
      ]
    },
    {
      "cell_type": "code",
      "execution_count": null,
      "metadata": {
        "id": "S3noRlyTetbp"
      },
      "outputs": [],
      "source": [
        "X={'beneficary':'Train_Beneficiarydata-1542865627584.csv',\n",
        "  'inpatient':'Train_Inpatientdata-1542865627584.csv',\n",
        "   'outpatient':'Train_Outpatientdata-1542865627584.csv',\n",
        "   'label':'Train-1542865627584.csv'}"
      ]
    },
    {
      "cell_type": "markdown",
      "metadata": {
        "id": "-ZD-ulz7etbq"
      },
      "source": [
        "##### Final data pipeline"
      ]
    },
    {
      "cell_type": "code",
      "execution_count": null,
      "metadata": {
        "id": "7k_kXGjgetbs"
      },
      "outputs": [],
      "source": [
        "def final_pipeline(X):\n",
        "    \n",
        "    train_label=pd.read_csv(X['label'])\n",
        "    train_beneficiary=pd.read_csv(X['beneficary'])\n",
        "    train_inpatient=pd.read_csv(X['inpatient'])\n",
        "    train_outpatient=pd.read_csv(X['outpatient'])\n",
        "    \n",
        "    print('data loaded')\n",
        "    \n",
        "    \n",
        "    #### changing data type ####### AS our traing dataset.\n",
        "    list_obj=['AttendingPhysician','OperatingPhysician','OtherPhysician']\n",
        "    for i in list_obj:\n",
        "        print(i)\n",
        "        train_inpatient[i]=train_inpatient[i].astype(object)\n",
        "        train_outpatient[i]=train_outpatient[i].astype(object)\n",
        "    for i in range(1,11):\n",
        "        j=\"ClmDiagnosisCode_\"+str(i)\n",
        "        train_inpatient[j]=train_inpatient[j].astype(str)\n",
        "        train_outpatient[j]=train_outpatient[j].astype(str)\n",
        "    for i in range(1,7):\n",
        "        j=\"ClmProcedureCode_\"+str(i)\n",
        "        train_inpatient[j]=train_inpatient[j].astype(str)\n",
        "        train_outpatient[j]=train_outpatient[j].astype(str)\n",
        "    \n",
        "    # replacing 2 with 0 in gender, train_beneficary[gender]\n",
        "    train_beneficiary['Gender']=train_beneficiary['Gender'].replace(2,0)\n",
        "    \n",
        "    # replacing Y with 1 in RenalDiseaseIndicator\n",
        "    \n",
        "    train_beneficiary['RenalDiseaseIndicator']=train_beneficiary['RenalDiseaseIndicator'].replace('Y',int(1))\n",
        "    \n",
        "    # replacing 2, with 0 in all 10 chronic condition, here we considering zero as no chornic condition\n",
        "    train_beneficiary['ChronicCond_Alzheimer']=train_beneficiary['ChronicCond_Alzheimer'].replace(2,0)\n",
        "    train_beneficiary['ChronicCond_Cancer']=train_beneficiary['ChronicCond_Cancer'].replace(2,0)\n",
        "    train_beneficiary['ChronicCond_Depression']=train_beneficiary['ChronicCond_Depression'].replace(2,0)\n",
        "    train_beneficiary['ChronicCond_Diabetes']=train_beneficiary['ChronicCond_Diabetes'].replace(2,0)\n",
        "    train_beneficiary['ChronicCond_Heartfailure']=train_beneficiary['ChronicCond_Heartfailure'].replace(2,0)\n",
        "    train_beneficiary['ChronicCond_IschemicHeart']=train_beneficiary['ChronicCond_IschemicHeart'].replace(2,0)\n",
        "    train_beneficiary['ChronicCond_KidneyDisease']=train_beneficiary['ChronicCond_KidneyDisease'].replace(2,0)\n",
        "    train_beneficiary['ChronicCond_ObstrPulmonary']=train_beneficiary['ChronicCond_ObstrPulmonary'].replace(2,0)\n",
        "    train_beneficiary['ChronicCond_Osteoporasis']=train_beneficiary['ChronicCond_Osteoporasis'].replace(2,0)\n",
        "    train_beneficiary['ChronicCond_rheumatoidarthritis']=train_beneficiary['ChronicCond_rheumatoidarthritis'].replace(2,0)\n",
        "    train_beneficiary['ChronicCond_stroke']=train_beneficiary['ChronicCond_stroke'].replace(2,0)\n",
        "    \n",
        "    # creating new feateu Dead or alive\n",
        "    train_beneficiary.loc[train_beneficiary.DOD.isna(),'Dead_or_Alive']=0\n",
        "    train_beneficiary.loc[train_beneficiary.DOD.notna(),'Dead_or_Alive']=1\n",
        "    \n",
        "    # age\n",
        "    \n",
        "    train_beneficiary['DOB']=pd.to_datetime(train_beneficiary['DOB'],format='%Y-%m-%d')\n",
        "    train_beneficiary['DOD']=pd.to_datetime(train_beneficiary['DOD'],format='%Y-%m-%d')\n",
        "    \n",
        "    # subracting dod form dob to get the age accoring to it.\n",
        "    train_beneficiary['Age']= round((train_beneficiary['DOD']-train_beneficiary['DOB']).dt.days/365)\n",
        "    \n",
        "    \n",
        "    # fill the nan vlaues accorindig to the latest date presnt in DoD.\n",
        "    train_beneficiary['Age']=train_beneficiary['Age'].fillna(round((pd.to_datetime('2009-12-01',format='%Y-%m-%d')-train_beneficiary['DOB']).dt.days/365))\n",
        "    \n",
        "    #Traindata\n",
        "    train_inpatient['Admitted_or_Not']=1\n",
        "    #Traindata\n",
        "    train_outpatient['Admitted_or_Not']=0\n",
        "    \n",
        "    \n",
        "    # getting commonn columns\n",
        "    comm_col=[]\n",
        "    for i in train_inpatient.columns:\n",
        "        if i in train_outpatient.columns:\n",
        "            comm_col.append(i)\n",
        "#             print(i)\n",
        "    len(comm_col)\n",
        "    \n",
        "    #merging of data inpatient and outpaitent data on common columns\n",
        "    \n",
        "    IN_OUT_train=pd.merge(train_inpatient,train_outpatient,left_on=comm_col,right_on=comm_col,how='outer')\n",
        "    \n",
        "    IN_OUT_train['AdmissionDt']=pd.to_datetime(IN_OUT_train['AdmissionDt'],format='%Y-%m-%d')\n",
        "    IN_OUT_train['DischargeDt']=pd.to_datetime(IN_OUT_train['DischargeDt'],format='%Y-%m-%d')\n",
        "    \n",
        "    IN_OUT_train['Admitted_days']=round((IN_OUT_train['DischargeDt']-IN_OUT_train['AdmissionDt']).dt.days)\n",
        "    \n",
        "    #filling nan values with 1 because patient is admitted for mininmun day is 1.\n",
        "    IN_OUT_train['Admitted_days']=IN_OUT_train['Admitted_days'].fillna(1)\n",
        "    \n",
        "    # Claim time\n",
        "    \n",
        "    IN_OUT_train['ClaimStartDt']=pd.to_datetime(IN_OUT_train['ClaimStartDt'],format='%Y-%m-%d')\n",
        "    IN_OUT_train['ClaimEndDt']=pd.to_datetime(IN_OUT_train['ClaimEndDt'],format='%Y-%m-%d')\n",
        "    \n",
        "    \n",
        "    IN_OUT_train['Claim_time']=round((IN_OUT_train['ClaimEndDt']-IN_OUT_train['ClaimStartDt']).dt.days)+1 # adding one becase atleast 1 day to process the claim\n",
        "    \n",
        "    # merging above merged data and beneficary data\n",
        "    \n",
        "    final_data_train=pd.merge(IN_OUT_train,train_beneficiary,on='BeneID',how='inner')\n",
        "    \n",
        "    # merging abouve merged data to train labels\n",
        "    \n",
        "#     final_data_train=pd.merge(in_out_bene_train,train_label,on='Provider',how='inner')\n",
        "    \n",
        "    # filling nan values with 0.\n",
        "    \n",
        "    print('removing Nan values')\n",
        "    final_data_train=final_data_train.fillna(0)\n",
        "    \n",
        "    # getting total chronic_condition\n",
        "    final_data_train['Tolat_chronic_cond']=  (final_data_train['ChronicCond_Alzheimer'] + final_data_train['ChronicCond_Cancer'] +\n",
        "                                          final_data_train['ChronicCond_Depression'] + final_data_train['ChronicCond_Diabetes'] +\n",
        "                                          final_data_train['ChronicCond_Heartfailure'] + final_data_train['ChronicCond_IschemicHeart'] +\n",
        "                                          final_data_train['ChronicCond_KidneyDisease'] + final_data_train['ChronicCond_ObstrPulmonary'] +\n",
        "                                           final_data_train['ChronicCond_rheumatoidarthritis'] + final_data_train['ChronicCond_stroke'])\n",
        "    \n",
        "                                              \n",
        "                                              \n",
        "    #Amoont get\n",
        "                                              \n",
        "    final_data_train['Amount_get']=final_data_train['InscClaimAmtReimbursed']-final_data_train['DeductibleAmtPaid']\n",
        "    \n",
        "    final_data_train['Total_ip_op_amount_reimb']=final_data_train['IPAnnualReimbursementAmt']+final_data_train['OPAnnualReimbursementAmt']\n",
        "    \n",
        "    final_data_train['total_ip_op_amount_deduct']=final_data_train['OPAnnualDeductibleAmt']+final_data_train['IPAnnualDeductibleAmt']\n",
        "    \n",
        "    \n",
        "    \n",
        "    \n",
        "\n",
        "    \n",
        "    # train_data\n",
        "    # count featues\n",
        "    X_train=final_data_train\n",
        "    df_physician=X_train[['AttendingPhysician','OperatingPhysician','OtherPhysician']] # creating a new dataframe\n",
        "    c = np.where(df_physician==0,0,1) # replacing the physican code with 1\n",
        "    sum_total_featues=np.sum(c,axis=1) # adding all columns.\n",
        "\n",
        "    X_train['Total_physican_attended']=sum_total_featues # stroing in new \n",
        "    \n",
        "    \n",
        "    #train\n",
        "    li=[] # ceateing list of all ClmDiagonosisCode\n",
        "    for i in range(1,11):\n",
        "        li.append(\"ClmDiagnosisCode_\"+str(i))    \n",
        "    df_=X_train[li] # storing in a diffrent dataframe\n",
        "    c = np.where(df_==0,0,1) # Changing the code with 1 and 0.\n",
        "    sum_total_featues=np.sum(c,axis=1) # summing all 1's column vise.\n",
        "    X_train['Total_ClmDiagnosisCode']=sum_total_featues # storing in diffrent column\n",
        "    \n",
        "    \n",
        "        #train\n",
        "    li=[]  # ceateing list of all ClmProcedureCode\n",
        "    for i in range(1,7):\n",
        "        li.append(\"ClmProcedureCode_\"+str(i))    \n",
        "    df_=X_train[li]    # storing in a diffrent dataframe\n",
        "    c = np.where(df_==0,0,1)   # Changing the code with 1 and 0.\n",
        "    sum_total_featues=np.sum(c,axis=1)    # summing all 1's column vise\n",
        "    X_train['Total_ClmProcedureCode']=sum_total_featues\n",
        "    \n",
        "    \n",
        "    # # creating dataframe which only contains fraud data.\n",
        "    # top 10 claim_diagnosis_code belongs to fraud data\n",
        "#########################################################################################################################    \n",
        "    claim_diagnosis_code={'ClmDiagnosisCode_1': ['4019', '4011', '2724', '42731', '2720', '2722', '2721', '2723', '78659'], \n",
        "                      'ClmDiagnosisCode_2': ['4019', '25000', '2724', 'V5861', 'V5869', '42731', '2449', '2720', '4280'], \n",
        "                      'ClmDiagnosisCode_3': ['4019', '25000', '2724', 'V5869', 'V5861', '2449', '42731', '2720', '4280'], \n",
        "                      'ClmDiagnosisCode_4': ['4019', '25000', '2724', 'V5869', '42731', '2449', '53081', '2720', '4280'], \n",
        "                      'ClmDiagnosisCode_5': ['4019', '25000', '2724', '42731', '53081', '2449', 'V5869', '41401', '4280'], \n",
        "                      'ClmDiagnosisCode_6': ['4019', '25000', '2724', '4280', '53081', '41401', '42731', '2449', '496'], \n",
        "                      'ClmDiagnosisCode_7': ['4019', '25000', '2724', '4280', '42731', '41401', '53081', '2449', '496'], \n",
        "                      'ClmDiagnosisCode_8': ['4019', '25000', '2724', '4280', '42731', '41401', '53081', '496', '5990'], \n",
        "                      'ClmDiagnosisCode_9': ['4019', '25000', '2724', '42731', '41401', '4280', '53081', '5990', '496'], \n",
        "                      'ClmDiagnosisCode_10': ['4019', '2724', '25000', '53081', '5990', '4280', '42731', '41401', '2449']}\n",
        "\n",
        "\n",
        "    clmAdmitDiagnosisCode=[0, '42731', 'V7612', '78605', '78650', '78900', '4019', '25000', '486', '78079',\n",
        "                           '7802', '7295', '5990', 'V5883', '4280', '7242', '7862', 'V5789', '2724', 'V5861', '78097']\n",
        "\n",
        "    Attendig_physicain=['PHY330576', 'PHY350277', 'PHY412132', 'PHY423534', 'PHY314027', 'PHY357120', \n",
        "                        'PHY337425', 'PHY338032', 'PHY341578', 'PHY327046']\n",
        "\n",
        "    Operating_physician= [0, 'PHY330576', 'PHY424897', 'PHY357120', 'PHY314027', 'PHY333735', 'PHY412132',\n",
        "                          'PHY423534', 'PHY381249', 'PHY337425']\n",
        "\n",
        "    Other_physician= [0, 'PHY412132', 'PHY341578', 'PHY338032', 'PHY337425', 'PHY347064', \n",
        "                      'PHY322092', 'PHY409965', 'PHY313818', 'PHY350277']\n",
        "\n",
        "    Maximum_IPAnnualreimbursementAmt= 161470\n",
        "    Maximum_OPAnnualReimbursementAmt=102960\n",
        "    Maximum_InscClaimAmtReimbursed= 125000\n",
        "\n",
        "    contry_code =[240, 411, 930, 970, 892, 380, 390, 410, 720, 590, 670, 620, 300, 0, 750, 90, 10, 580, 490, 70, 200, 770, 921, 80,\n",
        "                  700, 989, 310, 988, 711, 141, 810, 140, 510, 150, 210, 20, 550, 920, 110, 420, 622, 250, 40, 340, 360, 430, 60, \n",
        "                  940, 790, 551, 600, 540, 890, 843, 480, 120, 230, 560, 260, 948, 860, 100, 330, 341, 400, 320, 190, 830, 520, \n",
        "                  160, 280, 910, 130, 370, 760, 50, 180, 974, 470, 290, 650, 780, 500, 984, 270, 751, 842, 680, 570, 610, 640, 30, \n",
        "                  460, 450, 170, 977, 999, 350, 630, 820, 440, 880, 850, 220, 946, 861, 331, 882, 311, 870, 541, 530, 991, 801, \n",
        "                  840, 980, 832, 660, 710, 802, 800, 662, 740, 981, 792, 621, 251, 564, 730, 950, 881, 291, 953, 194, 971, 960, \n",
        "                  986, 451, 791, 812, 990, 113, 562, 867, 794, 690, 913, 111, 757, 342, 982, 783, 885, 954, 381, 758, 821, 838, \n",
        "                  641, 973, 1, 993, 611, 891, 561, 321, 947, 213, 511, 902, 671, 591, 883, 961, 581, 886, 756, 978, 11, 900, 288, \n",
        "                  752, 871, 761, 887, 421, 975, 772, 845, 994, 911, 722, 851, 785, 241, 653, 945, 224, 901, 731, 983, 793, 976, \n",
        "                  563, 312, 942, 831, 34, 979, 462, 841, 943, 835, 542, 461, 992, 703, 471, 88, 301, 905, 795, 661, 734, 944, 955,\n",
        "                  281, 681, 962, 904, 701, 985, 531, 811, 888, 552, 191, 743, 161, 951, 25, 879, 874, 651, 392, 222, 84, 691, 654, \n",
        "                  754, 672, 771, 702, 844, 362, 862, 361, 784, 631, 441, 952, 987, 292, 55, 884, 343, 211, 941, 996, 601, 822, 131,\n",
        "                  782, 893, 592, 875, 755, 582, 431, 797, 652, 221, 741, 972, 223, 878, 391, 271, 803, 932, 117, 212, 949, 14, 522,\n",
        "                  328, 632, 876, 412, 903, 963, 796, 912, 583, 744, 873, 712, 931, 753, 612]\n",
        "\n",
        "    gender_code=[0, 1]\n",
        "    race_code=[1, 2, 5, 3]\n",
        "    state_code= [33, 49, 44, 6, 45, 5, 28, 34, 23, 16, 36, 51, 3, 52, 26, 22, 21, 11, 19, 14, 31, 46, 4, 10, 20, 12, 18, 37, 50, \n",
        "                25, 29, 39, 1, 38, 15, 13, 42, 17, 54, 35, 32, 30, 8, 47, 24, 7, 43, 53, 27, 9, 2, 41]\n",
        "\n",
        "    NoOfMonths_PartACov_code= [12, 0, 11, 10, 6, 9, 7, 8, 4, 3, 5, 1, 2]\n",
        "\n",
        "    NoOfMonths_PartBCov_code= [12, 5, 0, 6, 7, 1, 10, 11, 8, 9, 3, 2, 4]\n",
        "\n",
        "#####################################################################################################################\n",
        "    if 0 in clmAdmitDiagnosisCode:  # Removing zero form the list. \n",
        "        clmAdmitDiagnosisCode.remove(0)\n",
        "    X_train[\"ClmAdmitDiagnosisCode\"]=str(X_train[\"ClmAdmitDiagnosisCode\"])\n",
        "    for i in clmAdmitDiagnosisCode:\n",
        "    # adding new featues with that category to the  train data.\n",
        "    # replacing that code with 1 and other with 0. \n",
        "        X_train['ClmAdmitDiagnosisCode_'+i]=np.where(X_train[\"ClmAdmitDiagnosisCode\"].str.contains(i), 1, 0) \n",
        "        \n",
        "#######################################################################################################################\n",
        "    for i in range(1,11):\n",
        "\n",
        "        code=claim_diagnosis_code.get('ClmDiagnosisCode_'+str(i))  # craetind list of code for each ClmDiagnosisCode column\n",
        "\n",
        "        if 0 in code: # removing code zero. if occure\n",
        "            code.remove(0)\n",
        "        X_train[\"ClmDiagnosisCode_\"+str(i)]=str(X_train[\"ClmDiagnosisCode_\"+str(i)])\n",
        "        for k in code:\n",
        "            X_train['ClmDiagnosisCode_'+k]=np.where(X_train[\"ClmDiagnosisCode_\"+str(i)].str.contains(k), 1, 0) # replacing the code with 1. and other values with zero.\n",
        "            \n",
        "####################################################################################################################            \n",
        "    ## attedinng physican\n",
        "    if 0 in Attendig_physicain:\n",
        "\n",
        "        Attendig_physicain.remove(0)\n",
        "    X_train[\"AttendingPhysician\"]=str(X_train[\"AttendingPhysician\"])\n",
        "    for i in Attendig_physicain:\n",
        "\n",
        "    # replacing the code with 1. and other values with zero.\n",
        "    \n",
        "        X_train['AttendingPhysician_'+i]=np.where(X_train[\"AttendingPhysician\"].str.contains(i), 1, 0)\n",
        "#######################################################################################################################        \n",
        "     # operating_physician   \n",
        "\n",
        "    if 0 in Operating_physician:\n",
        "        Operating_physician.remove(0)\n",
        "    X_train[\"OperatingPhysician\"]=str(X_train[\"OperatingPhysician\"])\n",
        "    for i in Operating_physician:\n",
        "        X_train[\"AttendingPhysician\"]=str(X_train[\"AttendingPhysician\"])\n",
        "#         print(i)\n",
        "        X_train['OperatingPhysician_'+i]=np.where(X_train[\"OperatingPhysician\"].str.contains(i), 1, 0)\n",
        "\n",
        "\n",
        "    print(X_train.shape)\n",
        " #######################################################################################################################   \n",
        "    # other physicain\n",
        "\n",
        "    if 0 in Other_physician:\n",
        "        Other_physician.remove(0)\n",
        "    X_train[\"OtherPhysician\"]=str(X_train[\"OtherPhysician\"])\n",
        "    for i in Other_physician:\n",
        "#         print(i)\n",
        "        X_train['OtherPhysician_'+i]=np.where(X_train[\"OtherPhysician\"].str.contains(i), 1, 0)\n",
        "        \n",
        "#######################################################################################################################\n",
        "\n",
        "    #Diff_max_IPAnnualReimbursementAm\n",
        "    X_train['Diff_max_IPAnnualReimbursementAmt']=Maximum_IPAnnualreimbursementAmt-X_train['IPAnnualReimbursementAmt']\n",
        "    # OPAnnualReimbursementAmt\n",
        "    X_train['Diff_max_OPAnnualReimbursementAmt']=Maximum_OPAnnualReimbursementAmt-X_train['OPAnnualReimbursementAmt']\n",
        "    #InscClaimAmtReimbursed\n",
        "    X_train['Diff_max_InscClaimAmtReimbursed']=Maximum_InscClaimAmtReimbursed-X_train['InscClaimAmtReimbursed']\n",
        "\n",
        "    print(X_train.shape)\n",
        "###########################################################################################################################    \n",
        "    \n",
        "    # for country one hot encoding.\n",
        "\n",
        "    for i in contry_code:\n",
        "        X_train['County_'+str(i)]=np.where(X_train[\"County\"]==i, 1, 0)\n",
        "        \n",
        "    # gender   \n",
        "\n",
        "    for i in gender_code:\n",
        "        X_train['Gender_'+str(i)]=np.where(X_train[\"Gender\"]==i, 1, 0)\n",
        "    \n",
        "    \n",
        "    # race\n",
        "\n",
        "    for i in race_code:\n",
        "        X_train['Race_'+str(i)]=np.where(X_train[\"Race\"]==i, 1, 0)        \n",
        "\n",
        "    # state\n",
        "\n",
        "    for i in state_code:\n",
        "        X_train['State_'+str(i)]=np.where(X_train[\"State\"]==i, 1, 0)\n",
        "        \n",
        "        \n",
        "        \n",
        "#     NoOfMonths_PartACov_code\n",
        "\n",
        "    for i in NoOfMonths_PartACov_code:\n",
        "        X_train['NoOfMonths_PartACov_'+str(i)]=np.where(X_train[\"NoOfMonths_PartACov\"]==i, 1, 0) \n",
        "        \n",
        "        \n",
        "#     NoOfMonths_PartBCov_code\n",
        "\n",
        "    for i in NoOfMonths_PartBCov_code:\n",
        "        X_train['NoOfMonths_PartBCov_'+str(i)]=np.where(X_train[\"NoOfMonths_PartBCov\"]==i, 1, 0) \n",
        "##########################################################################################################################\n",
        "    \n",
        "# removing columns\n",
        "    remove_col=['AttendingPhysician','OperatingPhysician','OtherPhysician','ClmAdmitDiagnosisCode','DiagnosisGroupCode',\n",
        "           'Provider','BeneID', 'ClaimID', 'ClaimStartDt','ClaimEndDt',\"DOD\",'DOB','AdmissionDt','Gender',\n",
        "               'DischargeDt','Provider','County','NoOfMonths_PartACov','NoOfMonths_PartBCov','Race','State']\n",
        "    for i in range(1,11):\n",
        "        remove_col.append('ClmDiagnosisCode_'+str(i))\n",
        "    for i in range(1,7):\n",
        "        remove_col.append('ClmProcedureCode_'+str(i))\n",
        "        \n",
        "        \n",
        "    X_train=X_train.drop(columns=remove_col,axis=1)\n",
        "    \n",
        "    \n",
        "    print(X_train.shape)\n",
        "   \n",
        "    \n",
        "    print('normalization started')\n",
        "    # normalazition of continous data\n",
        "    Cont_col=['InscClaimAmtReimbursed', 'DeductibleAmtPaid','Admitted_days', 'Claim_time',\n",
        "              'Amount_get', 'IPAnnualReimbursementAmt', 'IPAnnualDeductibleAmt', 'OPAnnualReimbursementAmt',\n",
        "              'OPAnnualDeductibleAmt',  'Age', 'Tolat_chronic_cond', 'Total_ip_op_amount_reimb', 'total_ip_op_amount_deduct', \n",
        "              'Total_physican_attended', \n",
        "              'Total_ClmDiagnosisCode', 'Total_ClmProcedureCode','Diff_max_IPAnnualReimbursementAmt',\n",
        "              'Diff_max_OPAnnualReimbursementAmt', 'Diff_max_InscClaimAmtReimbursed']\n",
        "\n",
        "    for i in Cont_col:\n",
        "        data_train=np.array(X_train[i]).reshape(-1,1)\n",
        "        \n",
        "        X_train[i]=normalize(data_train,axis=0).ravel()\n",
        "        \n",
        "#########################################################################################################################\n",
        "    \n",
        "    \n",
        "    #refrence: appliedroots.com\n",
        "    import sklearn\n",
        "\n",
        "\n",
        "    def predict_with_best_t(proba, threshould):\n",
        "        predictions = []\n",
        "        for i in proba:\n",
        "            if i>=threshould:\n",
        "                predictions.append(1)\n",
        "            else:\n",
        "                predictions.append(0)\n",
        "        return predictions\n",
        "    \n",
        "    \n",
        "    # loading the best model\n",
        "    print('model_loaded')\n",
        "    \n",
        "    \n",
        "    X_train['RenalDiseaseIndicator']=X_train['RenalDiseaseIndicator'].astype(str).astype(int)\n",
        "    model=joblib.load('Best_clf.pkl')\n",
        "#     print(X_train.columns.tolist())\n",
        "    \n",
        "    \n",
        "    y_predict_tr=model.predict_proba(X_train)[:,1]\n",
        "\n",
        "    prediction_tr=predict_with_best_t(y_predict_tr,0.382)\n",
        "    \n",
        "    \n",
        "    pred_df=pd.DataFrame(prediction_tr,columns=['Prediction'])\n",
        "\n",
        "    print('prediction done')\n",
        "    \n",
        "    \n",
        "    return pred_df"
      ]
    },
    {
      "cell_type": "markdown",
      "metadata": {
        "id": "st-FX4BYetbv"
      },
      "source": [
        "###### prediction of final data pipeline."
      ]
    },
    {
      "cell_type": "code",
      "execution_count": null,
      "metadata": {
        "scrolled": false,
        "colab": {
          "base_uri": "https://localhost:8080/",
          "height": 1000
        },
        "id": "BPkJw5Reetbw",
        "outputId": "cc91aba4-5b30-4776-99a1-f4c46a4e818b"
      },
      "outputs": [
        {
          "output_type": "error",
          "ename": "FileNotFoundError",
          "evalue": "ignored",
          "traceback": [
            "\u001b[0;31m---------------------------------------------------------------------------\u001b[0m",
            "\u001b[0;31mFileNotFoundError\u001b[0m                         Traceback (most recent call last)",
            "\u001b[0;32m<ipython-input-4-5d8de1c1fde4>\u001b[0m in \u001b[0;36m<cell line: 1>\u001b[0;34m()\u001b[0m\n\u001b[0;32m----> 1\u001b[0;31m \u001b[0mdf\u001b[0m\u001b[0;34m=\u001b[0m\u001b[0mfinal_pipeline\u001b[0m\u001b[0;34m(\u001b[0m\u001b[0mX\u001b[0m\u001b[0;34m)\u001b[0m\u001b[0;34m\u001b[0m\u001b[0;34m\u001b[0m\u001b[0m\n\u001b[0m",
            "\u001b[0;32m<ipython-input-3-6f06b1bdea00>\u001b[0m in \u001b[0;36mfinal_pipeline\u001b[0;34m(X)\u001b[0m\n\u001b[1;32m      2\u001b[0m \u001b[0;34m\u001b[0m\u001b[0m\n\u001b[1;32m      3\u001b[0m \u001b[0;31m#     train_label=pd.read_csv(X['label'])\u001b[0m\u001b[0;34m\u001b[0m\u001b[0;34m\u001b[0m\u001b[0m\n\u001b[0;32m----> 4\u001b[0;31m     \u001b[0mtrain_beneficiary\u001b[0m\u001b[0;34m=\u001b[0m\u001b[0mpd\u001b[0m\u001b[0;34m.\u001b[0m\u001b[0mread_csv\u001b[0m\u001b[0;34m(\u001b[0m\u001b[0mX\u001b[0m\u001b[0;34m[\u001b[0m\u001b[0;34m'beneficary'\u001b[0m\u001b[0;34m]\u001b[0m\u001b[0;34m)\u001b[0m\u001b[0;34m\u001b[0m\u001b[0;34m\u001b[0m\u001b[0m\n\u001b[0m\u001b[1;32m      5\u001b[0m     \u001b[0mtrain_inpatient\u001b[0m\u001b[0;34m=\u001b[0m\u001b[0mpd\u001b[0m\u001b[0;34m.\u001b[0m\u001b[0mread_csv\u001b[0m\u001b[0;34m(\u001b[0m\u001b[0mX\u001b[0m\u001b[0;34m[\u001b[0m\u001b[0;34m'inpatient'\u001b[0m\u001b[0;34m]\u001b[0m\u001b[0;34m)\u001b[0m\u001b[0;34m\u001b[0m\u001b[0;34m\u001b[0m\u001b[0m\n\u001b[1;32m      6\u001b[0m     \u001b[0mtrain_outpatient\u001b[0m\u001b[0;34m=\u001b[0m\u001b[0mpd\u001b[0m\u001b[0;34m.\u001b[0m\u001b[0mread_csv\u001b[0m\u001b[0;34m(\u001b[0m\u001b[0mX\u001b[0m\u001b[0;34m[\u001b[0m\u001b[0;34m'outpatient'\u001b[0m\u001b[0;34m]\u001b[0m\u001b[0;34m)\u001b[0m\u001b[0;34m\u001b[0m\u001b[0;34m\u001b[0m\u001b[0m\n",
            "\u001b[0;32m/usr/local/lib/python3.10/dist-packages/pandas/util/_decorators.py\u001b[0m in \u001b[0;36mwrapper\u001b[0;34m(*args, **kwargs)\u001b[0m\n\u001b[1;32m    209\u001b[0m                 \u001b[0;32melse\u001b[0m\u001b[0;34m:\u001b[0m\u001b[0;34m\u001b[0m\u001b[0;34m\u001b[0m\u001b[0m\n\u001b[1;32m    210\u001b[0m                     \u001b[0mkwargs\u001b[0m\u001b[0;34m[\u001b[0m\u001b[0mnew_arg_name\u001b[0m\u001b[0;34m]\u001b[0m \u001b[0;34m=\u001b[0m \u001b[0mnew_arg_value\u001b[0m\u001b[0;34m\u001b[0m\u001b[0;34m\u001b[0m\u001b[0m\n\u001b[0;32m--> 211\u001b[0;31m             \u001b[0;32mreturn\u001b[0m \u001b[0mfunc\u001b[0m\u001b[0;34m(\u001b[0m\u001b[0;34m*\u001b[0m\u001b[0margs\u001b[0m\u001b[0;34m,\u001b[0m \u001b[0;34m**\u001b[0m\u001b[0mkwargs\u001b[0m\u001b[0;34m)\u001b[0m\u001b[0;34m\u001b[0m\u001b[0;34m\u001b[0m\u001b[0m\n\u001b[0m\u001b[1;32m    212\u001b[0m \u001b[0;34m\u001b[0m\u001b[0m\n\u001b[1;32m    213\u001b[0m         \u001b[0;32mreturn\u001b[0m \u001b[0mcast\u001b[0m\u001b[0;34m(\u001b[0m\u001b[0mF\u001b[0m\u001b[0;34m,\u001b[0m \u001b[0mwrapper\u001b[0m\u001b[0;34m)\u001b[0m\u001b[0;34m\u001b[0m\u001b[0;34m\u001b[0m\u001b[0m\n",
            "\u001b[0;32m/usr/local/lib/python3.10/dist-packages/pandas/util/_decorators.py\u001b[0m in \u001b[0;36mwrapper\u001b[0;34m(*args, **kwargs)\u001b[0m\n\u001b[1;32m    329\u001b[0m                     \u001b[0mstacklevel\u001b[0m\u001b[0;34m=\u001b[0m\u001b[0mfind_stack_level\u001b[0m\u001b[0;34m(\u001b[0m\u001b[0;34m)\u001b[0m\u001b[0;34m,\u001b[0m\u001b[0;34m\u001b[0m\u001b[0;34m\u001b[0m\u001b[0m\n\u001b[1;32m    330\u001b[0m                 )\n\u001b[0;32m--> 331\u001b[0;31m             \u001b[0;32mreturn\u001b[0m \u001b[0mfunc\u001b[0m\u001b[0;34m(\u001b[0m\u001b[0;34m*\u001b[0m\u001b[0margs\u001b[0m\u001b[0;34m,\u001b[0m \u001b[0;34m**\u001b[0m\u001b[0mkwargs\u001b[0m\u001b[0;34m)\u001b[0m\u001b[0;34m\u001b[0m\u001b[0;34m\u001b[0m\u001b[0m\n\u001b[0m\u001b[1;32m    332\u001b[0m \u001b[0;34m\u001b[0m\u001b[0m\n\u001b[1;32m    333\u001b[0m         \u001b[0;31m# error: \"Callable[[VarArg(Any), KwArg(Any)], Any]\" has no\u001b[0m\u001b[0;34m\u001b[0m\u001b[0;34m\u001b[0m\u001b[0m\n",
            "\u001b[0;32m/usr/local/lib/python3.10/dist-packages/pandas/io/parsers/readers.py\u001b[0m in \u001b[0;36mread_csv\u001b[0;34m(filepath_or_buffer, sep, delimiter, header, names, index_col, usecols, squeeze, prefix, mangle_dupe_cols, dtype, engine, converters, true_values, false_values, skipinitialspace, skiprows, skipfooter, nrows, na_values, keep_default_na, na_filter, verbose, skip_blank_lines, parse_dates, infer_datetime_format, keep_date_col, date_parser, dayfirst, cache_dates, iterator, chunksize, compression, thousands, decimal, lineterminator, quotechar, quoting, doublequote, escapechar, comment, encoding, encoding_errors, dialect, error_bad_lines, warn_bad_lines, on_bad_lines, delim_whitespace, low_memory, memory_map, float_precision, storage_options)\u001b[0m\n\u001b[1;32m    948\u001b[0m     \u001b[0mkwds\u001b[0m\u001b[0;34m.\u001b[0m\u001b[0mupdate\u001b[0m\u001b[0;34m(\u001b[0m\u001b[0mkwds_defaults\u001b[0m\u001b[0;34m)\u001b[0m\u001b[0;34m\u001b[0m\u001b[0;34m\u001b[0m\u001b[0m\n\u001b[1;32m    949\u001b[0m \u001b[0;34m\u001b[0m\u001b[0m\n\u001b[0;32m--> 950\u001b[0;31m     \u001b[0;32mreturn\u001b[0m \u001b[0m_read\u001b[0m\u001b[0;34m(\u001b[0m\u001b[0mfilepath_or_buffer\u001b[0m\u001b[0;34m,\u001b[0m \u001b[0mkwds\u001b[0m\u001b[0;34m)\u001b[0m\u001b[0;34m\u001b[0m\u001b[0;34m\u001b[0m\u001b[0m\n\u001b[0m\u001b[1;32m    951\u001b[0m \u001b[0;34m\u001b[0m\u001b[0m\n\u001b[1;32m    952\u001b[0m \u001b[0;34m\u001b[0m\u001b[0m\n",
            "\u001b[0;32m/usr/local/lib/python3.10/dist-packages/pandas/io/parsers/readers.py\u001b[0m in \u001b[0;36m_read\u001b[0;34m(filepath_or_buffer, kwds)\u001b[0m\n\u001b[1;32m    603\u001b[0m \u001b[0;34m\u001b[0m\u001b[0m\n\u001b[1;32m    604\u001b[0m     \u001b[0;31m# Create the parser.\u001b[0m\u001b[0;34m\u001b[0m\u001b[0;34m\u001b[0m\u001b[0m\n\u001b[0;32m--> 605\u001b[0;31m     \u001b[0mparser\u001b[0m \u001b[0;34m=\u001b[0m \u001b[0mTextFileReader\u001b[0m\u001b[0;34m(\u001b[0m\u001b[0mfilepath_or_buffer\u001b[0m\u001b[0;34m,\u001b[0m \u001b[0;34m**\u001b[0m\u001b[0mkwds\u001b[0m\u001b[0;34m)\u001b[0m\u001b[0;34m\u001b[0m\u001b[0;34m\u001b[0m\u001b[0m\n\u001b[0m\u001b[1;32m    606\u001b[0m \u001b[0;34m\u001b[0m\u001b[0m\n\u001b[1;32m    607\u001b[0m     \u001b[0;32mif\u001b[0m \u001b[0mchunksize\u001b[0m \u001b[0;32mor\u001b[0m \u001b[0miterator\u001b[0m\u001b[0;34m:\u001b[0m\u001b[0;34m\u001b[0m\u001b[0;34m\u001b[0m\u001b[0m\n",
            "\u001b[0;32m/usr/local/lib/python3.10/dist-packages/pandas/io/parsers/readers.py\u001b[0m in \u001b[0;36m__init__\u001b[0;34m(self, f, engine, **kwds)\u001b[0m\n\u001b[1;32m   1440\u001b[0m \u001b[0;34m\u001b[0m\u001b[0m\n\u001b[1;32m   1441\u001b[0m         \u001b[0mself\u001b[0m\u001b[0;34m.\u001b[0m\u001b[0mhandles\u001b[0m\u001b[0;34m:\u001b[0m \u001b[0mIOHandles\u001b[0m \u001b[0;34m|\u001b[0m \u001b[0;32mNone\u001b[0m \u001b[0;34m=\u001b[0m \u001b[0;32mNone\u001b[0m\u001b[0;34m\u001b[0m\u001b[0;34m\u001b[0m\u001b[0m\n\u001b[0;32m-> 1442\u001b[0;31m         \u001b[0mself\u001b[0m\u001b[0;34m.\u001b[0m\u001b[0m_engine\u001b[0m \u001b[0;34m=\u001b[0m \u001b[0mself\u001b[0m\u001b[0;34m.\u001b[0m\u001b[0m_make_engine\u001b[0m\u001b[0;34m(\u001b[0m\u001b[0mf\u001b[0m\u001b[0;34m,\u001b[0m \u001b[0mself\u001b[0m\u001b[0;34m.\u001b[0m\u001b[0mengine\u001b[0m\u001b[0;34m)\u001b[0m\u001b[0;34m\u001b[0m\u001b[0;34m\u001b[0m\u001b[0m\n\u001b[0m\u001b[1;32m   1443\u001b[0m \u001b[0;34m\u001b[0m\u001b[0m\n\u001b[1;32m   1444\u001b[0m     \u001b[0;32mdef\u001b[0m \u001b[0mclose\u001b[0m\u001b[0;34m(\u001b[0m\u001b[0mself\u001b[0m\u001b[0;34m)\u001b[0m \u001b[0;34m->\u001b[0m \u001b[0;32mNone\u001b[0m\u001b[0;34m:\u001b[0m\u001b[0;34m\u001b[0m\u001b[0;34m\u001b[0m\u001b[0m\n",
            "\u001b[0;32m/usr/local/lib/python3.10/dist-packages/pandas/io/parsers/readers.py\u001b[0m in \u001b[0;36m_make_engine\u001b[0;34m(self, f, engine)\u001b[0m\n\u001b[1;32m   1733\u001b[0m                 \u001b[0;32mif\u001b[0m \u001b[0;34m\"b\"\u001b[0m \u001b[0;32mnot\u001b[0m \u001b[0;32min\u001b[0m \u001b[0mmode\u001b[0m\u001b[0;34m:\u001b[0m\u001b[0;34m\u001b[0m\u001b[0;34m\u001b[0m\u001b[0m\n\u001b[1;32m   1734\u001b[0m                     \u001b[0mmode\u001b[0m \u001b[0;34m+=\u001b[0m \u001b[0;34m\"b\"\u001b[0m\u001b[0;34m\u001b[0m\u001b[0;34m\u001b[0m\u001b[0m\n\u001b[0;32m-> 1735\u001b[0;31m             self.handles = get_handle(\n\u001b[0m\u001b[1;32m   1736\u001b[0m                 \u001b[0mf\u001b[0m\u001b[0;34m,\u001b[0m\u001b[0;34m\u001b[0m\u001b[0;34m\u001b[0m\u001b[0m\n\u001b[1;32m   1737\u001b[0m                 \u001b[0mmode\u001b[0m\u001b[0;34m,\u001b[0m\u001b[0;34m\u001b[0m\u001b[0;34m\u001b[0m\u001b[0m\n",
            "\u001b[0;32m/usr/local/lib/python3.10/dist-packages/pandas/io/common.py\u001b[0m in \u001b[0;36mget_handle\u001b[0;34m(path_or_buf, mode, encoding, compression, memory_map, is_text, errors, storage_options)\u001b[0m\n\u001b[1;32m    854\u001b[0m         \u001b[0;32mif\u001b[0m \u001b[0mioargs\u001b[0m\u001b[0;34m.\u001b[0m\u001b[0mencoding\u001b[0m \u001b[0;32mand\u001b[0m \u001b[0;34m\"b\"\u001b[0m \u001b[0;32mnot\u001b[0m \u001b[0;32min\u001b[0m \u001b[0mioargs\u001b[0m\u001b[0;34m.\u001b[0m\u001b[0mmode\u001b[0m\u001b[0;34m:\u001b[0m\u001b[0;34m\u001b[0m\u001b[0;34m\u001b[0m\u001b[0m\n\u001b[1;32m    855\u001b[0m             \u001b[0;31m# Encoding\u001b[0m\u001b[0;34m\u001b[0m\u001b[0;34m\u001b[0m\u001b[0m\n\u001b[0;32m--> 856\u001b[0;31m             handle = open(\n\u001b[0m\u001b[1;32m    857\u001b[0m                 \u001b[0mhandle\u001b[0m\u001b[0;34m,\u001b[0m\u001b[0;34m\u001b[0m\u001b[0;34m\u001b[0m\u001b[0m\n\u001b[1;32m    858\u001b[0m                 \u001b[0mioargs\u001b[0m\u001b[0;34m.\u001b[0m\u001b[0mmode\u001b[0m\u001b[0;34m,\u001b[0m\u001b[0;34m\u001b[0m\u001b[0;34m\u001b[0m\u001b[0m\n",
            "\u001b[0;31mFileNotFoundError\u001b[0m: [Errno 2] No such file or directory: 'Train_Beneficiarydata-1542865627584.csv'"
          ]
        }
      ],
      "source": [
        "df=final_pipeline(X)"
      ]
    },
    {
      "cell_type": "code",
      "execution_count": null,
      "metadata": {
        "id": "pj1l-NkOetbx",
        "outputId": "80bcc810-0c26-4b0b-def2-29dfdc8aa163"
      },
      "outputs": [
        {
          "data": {
            "text/html": [
              "<div>\n",
              "<style scoped>\n",
              "    .dataframe tbody tr th:only-of-type {\n",
              "        vertical-align: middle;\n",
              "    }\n",
              "\n",
              "    .dataframe tbody tr th {\n",
              "        vertical-align: top;\n",
              "    }\n",
              "\n",
              "    .dataframe thead th {\n",
              "        text-align: right;\n",
              "    }\n",
              "</style>\n",
              "<table border=\"1\" class=\"dataframe\">\n",
              "  <thead>\n",
              "    <tr style=\"text-align: right;\">\n",
              "      <th></th>\n",
              "      <th>Prediction</th>\n",
              "    </tr>\n",
              "  </thead>\n",
              "  <tbody>\n",
              "    <tr>\n",
              "      <th>0</th>\n",
              "      <td>1</td>\n",
              "    </tr>\n",
              "    <tr>\n",
              "      <th>1</th>\n",
              "      <td>1</td>\n",
              "    </tr>\n",
              "    <tr>\n",
              "      <th>2</th>\n",
              "      <td>1</td>\n",
              "    </tr>\n",
              "    <tr>\n",
              "      <th>3</th>\n",
              "      <td>1</td>\n",
              "    </tr>\n",
              "    <tr>\n",
              "      <th>4</th>\n",
              "      <td>0</td>\n",
              "    </tr>\n",
              "    <tr>\n",
              "      <th>...</th>\n",
              "      <td>...</td>\n",
              "    </tr>\n",
              "    <tr>\n",
              "      <th>558206</th>\n",
              "      <td>0</td>\n",
              "    </tr>\n",
              "    <tr>\n",
              "      <th>558207</th>\n",
              "      <td>0</td>\n",
              "    </tr>\n",
              "    <tr>\n",
              "      <th>558208</th>\n",
              "      <td>0</td>\n",
              "    </tr>\n",
              "    <tr>\n",
              "      <th>558209</th>\n",
              "      <td>0</td>\n",
              "    </tr>\n",
              "    <tr>\n",
              "      <th>558210</th>\n",
              "      <td>0</td>\n",
              "    </tr>\n",
              "  </tbody>\n",
              "</table>\n",
              "<p>558211 rows × 1 columns</p>\n",
              "</div>"
            ],
            "text/plain": [
              "        Prediction\n",
              "0                1\n",
              "1                1\n",
              "2                1\n",
              "3                1\n",
              "4                0\n",
              "...            ...\n",
              "558206           0\n",
              "558207           0\n",
              "558208           0\n",
              "558209           0\n",
              "558210           0\n",
              "\n",
              "[558211 rows x 1 columns]"
            ]
          },
          "execution_count": 199,
          "metadata": {},
          "output_type": "execute_result"
        }
      ],
      "source": [
        "df"
      ]
    },
    {
      "cell_type": "markdown",
      "metadata": {
        "id": "BbwWmNQ-etbx"
      },
      "source": [
        "##### Final performance check"
      ]
    },
    {
      "cell_type": "code",
      "execution_count": null,
      "metadata": {
        "id": "mEAU-mPEetbx"
      },
      "outputs": [],
      "source": [
        "X=pd.read_csv('X_cv.csv')\n",
        "y=pd.read_csv('y_cv.csv')"
      ]
    },
    {
      "cell_type": "code",
      "execution_count": null,
      "metadata": {
        "id": "vCcQnVIVetby"
      },
      "outputs": [],
      "source": [
        "def final_test(X_cv,y_cv):\n",
        "\n",
        "    X_cv=X_cv.drop(['Unnamed: 0'],axis=1)\n",
        "    y_cv=y_cv.drop(['Unnamed: 0'],axis=1)\n",
        "    # normalazition of continous data\n",
        "    Cont_col=['InscClaimAmtReimbursed', 'DeductibleAmtPaid','Admitted_days', 'Claim_time',\n",
        "              'Amount_get', 'IPAnnualReimbursementAmt', 'IPAnnualDeductibleAmt', 'OPAnnualReimbursementAmt',\n",
        "              'OPAnnualDeductibleAmt',  'Age', 'Tolat_chronic_cond', 'Total_ip_op_amount_reimb', 'total_ip_op_amount_deduct',\n",
        "              'Mean_InscClaimAmtReimbursed', 'Mean_IPAnnualReimbursementAmt', 'Mean_OPAnnualReimbursementAmt', \n",
        "              'Total_physican_attended', \n",
        "              'Total_ClmDiagnosisCode', 'Total_ClmProcedureCode','Diff_max_IPAnnualReimbursementAmt',\n",
        "              'Diff_max_OPAnnualReimbursementAmt', 'Diff_max_InscClaimAmtReimbursed']\n",
        "\n",
        "    for i in Cont_col:\n",
        "        data_cv=np.array(X_cv[i]).reshape(-1,1)\n",
        "        X_cv[i]=normalize(data_cv,axis=0).ravel()\n",
        "\n",
        "    y_cv=np.array(y_cv).ravel()\n",
        "\n",
        "    X_cv.drop(['Mean_OPAnnualReimbursementAmt','Mean_InscClaimAmtReimbursed','Mean_IPAnnualReimbursementAmt'],axis=1,inplace=True)\n",
        "\n",
        "\n",
        "    #refrence: appliedroots.com\n",
        "    import sklearn\n",
        "    def find_best_threshold(threshould, fpr, tpr):\n",
        "        t = threshould[np.argmax(tpr*(1-fpr))]\n",
        "        # (tpr*(1-fpr)) will be maximum if your fpr is very low and tpr is very high\n",
        "        print(\"the maximum value of tpr*(1-fpr)\", max(tpr*(1-fpr)), \"for threshold\", np.round(t,3))\n",
        "        return t\n",
        "\n",
        "    def predict_with_best_t(proba, threshould):\n",
        "        predictions = []\n",
        "        for i in proba:\n",
        "            if i>=threshould:\n",
        "                predictions.append(1)\n",
        "            else:\n",
        "                predictions.append(0)\n",
        "        return predictions\n",
        "\n",
        "    # laoding model\n",
        "    model=joblib.load('Best_clf.pkl')\n",
        "    y_predict_tr=model.predict_proba(X_cv)[:,1]\n",
        "\n",
        "    fpr_tr,tpr_tr,thresold_tr=roc_curve(y_cv,y_predict_tr)\n",
        "\n",
        "\n",
        "\n",
        "    plt.figure(1)\n",
        "    plt.figure(figsize=(7,4))\n",
        "    #     plt.subplot(3,1,1)\n",
        "\n",
        "    plt.plot(fpr_tr, tpr_tr, label=\"train AUC =\"+str(auc(fpr_tr, tpr_tr)))\n",
        "\n",
        "    plt.legend()\n",
        "    plt.xlabel(\"fpr\")\n",
        "    plt.ylabel(\"tpr\")\n",
        "    plt.title(\"ROC_CURVE\")\n",
        "    plt.grid(True)\n",
        "    plt.show()\n",
        "\n",
        "    train_best_threshold=find_best_threshold(thresold_tr,fpr_tr,tpr_tr)\n",
        "\n",
        "    prediction_tr=predict_with_best_t(y_predict_tr,train_best_threshold)\n",
        "\n",
        "\n",
        "    plt.figure(2)\n",
        "    plt.figure(figsize=(5,5))\n",
        "\n",
        "    plt.subplot(2,1,1)\n",
        "    conf_mat = pd.DataFrame(confusion_matrix(y_cv, prediction_tr))\n",
        "\n",
        "    sns.heatmap(conf_mat, annot = True, fmt= 'd',annot_kws={\"size\": 15}, xticklabels= ['Predicted No', 'Predicted Yes'], yticklabels= ['Actaual No','Actual Yes'])\n",
        "    plt.title('confusion matrix of test data')\n",
        "    plt.xlabel('Actual')\n",
        "    plt.ylabel('predicted')\n",
        "    plt.show()\n",
        "\n",
        "\n",
        "\n",
        "\n",
        "    print('train_auc_score =',auc(fpr_tr, tpr_tr))\n",
        "    print('-'*110)\n",
        "    print('logloss Train:--',sklearn.metrics.log_loss(y_cv,prediction_tr))\n",
        "\n",
        "    print('-'*110)\n",
        "    print('F1 Train:--',sklearn.metrics.f1_score(y_cv,prediction_tr))\n",
        "\n"
      ]
    },
    {
      "cell_type": "code",
      "execution_count": null,
      "metadata": {
        "id": "-sVciW3yetby",
        "outputId": "6edcc6e9-94f8-4a81-b34b-4e1bd779d663"
      },
      "outputs": [
        {
          "data": {
            "text/plain": [
              "<Figure size 432x288 with 0 Axes>"
            ]
          },
          "metadata": {},
          "output_type": "display_data"
        },
        {
          "data": {
            "image/png": "[encoded data removed]",
            "text/plain": [
              "<Figure size 504x288 with 1 Axes>"
            ]
          },
          "metadata": {
            "needs_background": "light"
          },
          "output_type": "display_data"
        },
        {
          "name": "stdout",
          "output_type": "stream",
          "text": [
            "the maximum value of tpr*(1-fpr) 0.5858516757029045 for threshold 0.382\n"
          ]
        },
        {
          "data": {
            "text/plain": [
              "<Figure size 432x288 with 0 Axes>"
            ]
          },
          "metadata": {},
          "output_type": "display_data"
        },
        {
          "data": {
            "image/png": "[encoded data removed]",
            "text/plain": [
              "<Figure size 360x360 with 2 Axes>"
            ]
          },
          "metadata": {
            "needs_background": "light"
          },
          "output_type": "display_data"
        },
        {
          "name": "stdout",
          "output_type": "stream",
          "text": [
            "train_auc_score = 0.8410542405603545\n",
            "--------------------------------------------------------------------------------------------------------------\n",
            "logloss Train:-- 7.860153510500646\n",
            "--------------------------------------------------------------------------------------------------------------\n",
            "F1 Train:-- 0.7121423323330884\n"
          ]
        }
      ],
      "source": [
        "final_test(X,y)"
      ]
    },
    {
      "cell_type": "markdown",
      "metadata": {
        "id": "bfHtSztJetby"
      },
      "source": [
        "## Deployment on Heroku\n",
        "\n",
        "\n",
        "\n",
        "1. https://healthcare-fraud-api.herokuapp.com/index "
      ]
    },
    {
      "cell_type": "code",
      "execution_count": null,
      "metadata": {
        "id": "j5tZDYvtetby"
      },
      "outputs": [],
      "source": []
    },
    {
      "cell_type": "code",
      "execution_count": null,
      "metadata": {
        "id": "7LXR5Bdpetby"
      },
      "outputs": [],
      "source": []
    },
    {
      "cell_type": "code",
      "execution_count": null,
      "metadata": {
        "id": "WTImX7qyetby"
      },
      "outputs": [],
      "source": []
    },
    {
      "cell_type": "code",
      "execution_count": null,
      "metadata": {
        "id": "nQu_sGkEetby"
      },
      "outputs": [],
      "source": []
    },
    {
      "cell_type": "code",
      "execution_count": null,
      "metadata": {
        "id": "mh4IZZCMetby"
      },
      "outputs": [],
      "source": [
        "\n"
      ]
    },
    {
      "cell_type": "code",
      "execution_count": null,
      "metadata": {
        "id": "HIToYmyietbz"
      },
      "outputs": [],
      "source": []
    },
    {
      "cell_type": "code",
      "execution_count": null,
      "metadata": {
        "id": "x9Up466Letbz"
      },
      "outputs": [],
      "source": []
    },
    {
      "cell_type": "code",
      "execution_count": null,
      "metadata": {
        "id": "OlJwIuHNetb0"
      },
      "outputs": [],
      "source": []
    },
    {
      "cell_type": "code",
      "execution_count": null,
      "metadata": {
        "id": "pISS9Dvketb0"
      },
      "outputs": [],
      "source": []
    },
    {
      "cell_type": "code",
      "execution_count": null,
      "metadata": {
        "id": "ZW_T9wxDetb0"
      },
      "outputs": [],
      "source": []
    },
    {
      "cell_type": "code",
      "execution_count": null,
      "metadata": {
        "id": "4hrKRRbJetb0"
      },
      "outputs": [],
      "source": []
    },
    {
      "cell_type": "code",
      "execution_count": null,
      "metadata": {
        "id": "1AkfX-Lbetb0"
      },
      "outputs": [],
      "source": []
    },
    {
      "cell_type": "code",
      "execution_count": null,
      "metadata": {
        "id": "SqUKS9Rgetb0"
      },
      "outputs": [],
      "source": []
    },
    {
      "cell_type": "code",
      "execution_count": null,
      "metadata": {
        "id": "oxb_jMjtetb0"
      },
      "outputs": [],
      "source": []
    }
  ],
  "metadata": {
    "kernelspec": {
      "display_name": "Python 3",
      "language": "python",
      "name": "python3"
    },
    "language_info": {
      "codemirror_mode": {
        "name": "ipython",
        "version": 3
      },
      "file_extension": ".py",
      "mimetype": "text/x-python",
      "name": "python",
      "nbconvert_exporter": "python",
      "pygments_lexer": "ipython3",
      "version": "3.8.3"
    },
    "colab": {
      "provenance": [],
      "toc_visible": true
    }
  },
  "nbformat": 4,
  "nbformat_minor": 0
}