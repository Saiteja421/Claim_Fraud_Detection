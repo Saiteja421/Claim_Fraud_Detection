{
  "cells": [
    {
      "attachments": {},
      "cell_type": "markdown",
      "metadata": {
        "id": "O4z8xmgMahno"
      },
      "source": [
        "### Dataset-1"
      ]
    },
    {
      "attachments": {},
      "cell_type": "markdown",
      "metadata": {
        "id": "r_a6juYYahnq"
      },
      "source": [
        "#### Libraries imported"
      ]
    },
    {
      "cell_type": "code",
      "execution_count": 28,
      "metadata": {
        "id": "8b9qqF7gahnr"
      },
      "outputs": [],
      "source": [
        "import numpy as np\n",
        "import pandas  as pd\n",
        "import sklearn\n",
        "from sklearn.linear_model import LogisticRegression\n",
        "import matplotlib.pyplot as plt\n",
        "import seaborn as sns\n",
        "from sklearn.preprocessing import normalize\n",
        "from sklearn.metrics import confusion_matrix,f1_score,roc_curve,auc,log_loss\n",
        "from sklearn.model_selection import train_test_split\n",
        "from collections import Counter\n",
        "from imblearn.over_sampling import SMOTE\n",
        "from imblearn.under_sampling import RandomUnderSampler\n",
        "from sklearn.model_selection import GridSearchCV\n",
        "from sklearn.model_selection import RandomizedSearchCV\n",
        "from sklearn.calibration import CalibratedClassifierCV\n",
        "import joblib\n",
        "\n",
        "\n",
        "\n",
        "\n",
        "from scipy.stats import loguniform"
      ]
    },
    {
      "cell_type": "code",
      "execution_count": 29,
      "metadata": {
        "id": "1rzNaKRHahns"
      },
      "outputs": [],
      "source": [
        "# !pip install imblearn"
      ]
    },
    {
      "attachments": {},
      "cell_type": "markdown",
      "metadata": {
        "id": "ZqvZNVNCahns"
      },
      "source": [
        "### Loading data\n",
        "#### dataset-1 (Original dataset)"
      ]
    },
    {
      "cell_type": "code",
      "execution_count": 30,
      "metadata": {
        "colab": {
          "base_uri": "https://localhost:8080/",
          "height": 398
        },
        "id": "Mb2yfojQahns",
        "outputId": "9cbdbc36-88d1-4659-95fa-ff53b20f2f8a"
      },
      "outputs": [
        {
          "name": "stdout",
          "output_type": "stream",
          "text": [
            "(374001, 497) (374001, 2)\n",
            "(184210, 497) (184210, 2)\n"
          ]
        }
      ],
      "source": [
        "X_train=pd.read_csv('data/X_train.csv')\n",
        "X_cv=pd.read_csv('data/X_cv.csv')\n",
        "y_train=pd.read_csv('data/y_train.csv')\n",
        "y_cv=pd.read_csv('data/y_cv.csv')\n",
        "print(X_train.shape,y_train.shape)\n",
        "print(X_cv.shape,y_cv.shape)"
      ]
    },
    {
      "cell_type": "code",
      "execution_count": 31,
      "metadata": {},
      "outputs": [
        {
          "name": "stdout",
          "output_type": "stream",
          "text": [
            "Index(['Unnamed: 0', 'InscClaimAmtReimbursed', 'DeductibleAmtPaid',\n",
            "       'Admitted_or_Not', 'Admitted_days', 'Claim_time', 'Amount_get',\n",
            "       'RenalDiseaseIndicator', 'ChronicCond_Alzheimer',\n",
            "       'ChronicCond_Heartfailure',\n",
            "       ...\n",
            "       'NoOfMonths_PartACov_3', 'NoOfMonths_PartACov_4',\n",
            "       'NoOfMonths_PartACov_5', 'NoOfMonths_PartACov_6',\n",
            "       'NoOfMonths_PartACov_7', 'NoOfMonths_PartACov_8',\n",
            "       'NoOfMonths_PartACov_9', 'NoOfMonths_PartACov_10',\n",
            "       'NoOfMonths_PartACov_11', 'NoOfMonths_PartACov_12'],\n",
            "      dtype='object', length=497)\n",
            "Index(['Unnamed: 0', 'InscClaimAmtReimbursed', 'DeductibleAmtPaid',\n",
            "       'Admitted_or_Not', 'Admitted_days', 'Claim_time', 'Amount_get',\n",
            "       'RenalDiseaseIndicator', 'ChronicCond_Alzheimer',\n",
            "       'ChronicCond_Heartfailure',\n",
            "       ...\n",
            "       'NoOfMonths_PartACov_3', 'NoOfMonths_PartACov_4',\n",
            "       'NoOfMonths_PartACov_5', 'NoOfMonths_PartACov_6',\n",
            "       'NoOfMonths_PartACov_7', 'NoOfMonths_PartACov_8',\n",
            "       'NoOfMonths_PartACov_9', 'NoOfMonths_PartACov_10',\n",
            "       'NoOfMonths_PartACov_11', 'NoOfMonths_PartACov_12'],\n",
            "      dtype='object', length=497)\n",
            "Index(['Unnamed: 0', 'PotentialFraud'], dtype='object')\n",
            "Index(['Unnamed: 0', 'PotentialFraud'], dtype='object')\n"
          ]
        }
      ],
      "source": [
        "print(X_train.columns)\n",
        "print(X_cv.columns)\n",
        "print(y_train.columns)\n",
        "print(y_cv.columns)\n"
      ]
    },
    {
      "cell_type": "code",
      "execution_count": 32,
      "metadata": {},
      "outputs": [
        {
          "name": "stdout",
          "output_type": "stream",
          "text": [
            "(374001, 496) (374001, 1)\n",
            "(184210, 496) (184210, 1)\n"
          ]
        }
      ],
      "source": [
        "X_train=X_train.drop(['Unnamed: 0'],axis=1)\n",
        "X_cv=X_cv.drop(['Unnamed: 0'],axis=1)\n",
        "y_train=y_train.drop(['Unnamed: 0'],axis=1)\n",
        "y_cv=y_cv.drop(['Unnamed: 0'],axis=1)\n",
        "\n",
        "print(X_train.shape,y_train.shape)\n",
        "print(X_cv.shape,y_cv.shape)"
      ]
    },
    {
      "cell_type": "code",
      "execution_count": 33,
      "metadata": {
        "id": "burLuVANahnu",
        "outputId": "42e6a2f8-6ca5-41ac-aad4-246c4c1d35dd"
      },
      "outputs": [
        {
          "name": "stdout",
          "output_type": "stream",
          "text": [
            "['InscClaimAmtReimbursed', 'DeductibleAmtPaid', 'Admitted_or_Not', 'Admitted_days', 'Claim_time', 'Amount_get', 'RenalDiseaseIndicator', 'ChronicCond_Alzheimer', 'ChronicCond_Heartfailure', 'ChronicCond_KidneyDisease', 'ChronicCond_Cancer', 'ChronicCond_ObstrPulmonary', 'ChronicCond_Depression', 'ChronicCond_Diabetes', 'ChronicCond_IschemicHeart', 'ChronicCond_Osteoporasis', 'ChronicCond_rheumatoidarthritis', 'ChronicCond_stroke', 'IPAnnualReimbursementAmt', 'IPAnnualDeductibleAmt', 'OPAnnualReimbursementAmt', 'OPAnnualDeductibleAmt', 'Dead_or_Alive', 'Age', 'Tolat_chronic_cond', 'Total_ip_op_amount_reimb', 'total_ip_op_amount_deduct', 'Mean_InscClaimAmtReimbursed', 'Mean_IPAnnualReimbursementAmt', 'Mean_OPAnnualReimbursementAmt', 'Total_physican_attended', 'Total_ClmDiagnosisCode', 'Total_ClmProcedureCode', 'ClmAdmitDiagnosisCode_42731', 'ClmAdmitDiagnosisCode_V7612', 'ClmAdmitDiagnosisCode_78605', 'ClmAdmitDiagnosisCode_78650', 'ClmAdmitDiagnosisCode_78900', 'ClmAdmitDiagnosisCode_4019', 'ClmAdmitDiagnosisCode_486', 'ClmAdmitDiagnosisCode_25000', 'ClmAdmitDiagnosisCode_78079', 'ClmAdmitDiagnosisCode_7802', 'ClmAdmitDiagnosisCode_7295', 'ClmAdmitDiagnosisCode_5990', 'ClmAdmitDiagnosisCode_V5883', 'ClmAdmitDiagnosisCode_4280', 'ClmAdmitDiagnosisCode_7242', 'ClmAdmitDiagnosisCode_7862', 'ClmAdmitDiagnosisCode_V5789', 'ClmAdmitDiagnosisCode_2724', 'ClmAdmitDiagnosisCode_V5861', 'ClmAdmitDiagnosisCode_78097', 'ClmDiagnosisCode_4019', 'ClmDiagnosisCode_4011', 'ClmDiagnosisCode_2724', 'ClmDiagnosisCode_42731', 'ClmDiagnosisCode_2720', 'ClmDiagnosisCode_2722', 'ClmDiagnosisCode_2721', 'ClmDiagnosisCode_2723', 'ClmDiagnosisCode_78659', 'ClmDiagnosisCode_25000', 'ClmDiagnosisCode_V5861', 'ClmDiagnosisCode_V5869', 'ClmDiagnosisCode_2449', 'ClmDiagnosisCode_4280', 'ClmDiagnosisCode_53081', 'ClmDiagnosisCode_41401', 'ClmDiagnosisCode_496', 'ClmDiagnosisCode_5990', 'AttendingPhysician_PHY330576', 'AttendingPhysician_PHY350277', 'AttendingPhysician_PHY412132', 'AttendingPhysician_PHY423534', 'AttendingPhysician_PHY314027', 'AttendingPhysician_PHY357120', 'AttendingPhysician_PHY337425', 'AttendingPhysician_PHY338032', 'AttendingPhysician_PHY341578', 'AttendingPhysician_PHY327046', 'OperatingPhysician_PHY330576', 'OperatingPhysician_PHY424897', 'OperatingPhysician_PHY357120', 'OperatingPhysician_PHY314027', 'OperatingPhysician_PHY333735', 'OperatingPhysician_PHY423534', 'OperatingPhysician_PHY412132', 'OperatingPhysician_PHY337425', 'OperatingPhysician_PHY381249', 'OtherPhysician_PHY412132', 'OtherPhysician_PHY341578', 'OtherPhysician_PHY338032', 'OtherPhysician_PHY337425', 'OtherPhysician_PHY347064', 'OtherPhysician_PHY322092', 'OtherPhysician_PHY409965', 'OtherPhysician_PHY313818', 'OtherPhysician_PHY350277', 'Diff_max_IPAnnualReimbursementAmt', 'Diff_max_OPAnnualReimbursementAmt', 'Diff_max_InscClaimAmtReimbursed', 'County_240', 'County_411', 'County_930', 'County_970', 'County_892', 'County_380', 'County_390', 'County_410', 'County_720', 'County_590', 'County_670', 'County_620', 'County_300', 'County_0', 'County_750', 'County_90', 'County_10', 'County_580', 'County_490', 'County_70', 'County_200', 'County_770', 'County_921', 'County_80', 'County_700', 'County_989', 'County_310', 'County_988', 'County_711', 'County_141', 'County_810', 'County_140', 'County_510', 'County_150', 'County_210', 'County_20', 'County_550', 'County_920', 'County_110', 'County_420', 'County_622', 'County_250', 'County_40', 'County_340', 'County_360', 'County_430', 'County_60', 'County_940', 'County_790', 'County_551', 'County_600', 'County_540', 'County_890', 'County_843', 'County_480', 'County_120', 'County_230', 'County_560', 'County_260', 'County_948', 'County_860', 'County_100', 'County_330', 'County_341', 'County_400', 'County_320', 'County_190', 'County_830', 'County_520', 'County_160', 'County_280', 'County_910', 'County_130', 'County_370', 'County_760', 'County_50', 'County_180', 'County_974', 'County_470', 'County_290', 'County_650', 'County_780', 'County_500', 'County_984', 'County_270', 'County_751', 'County_842', 'County_680', 'County_570', 'County_610', 'County_640', 'County_30', 'County_460', 'County_450', 'County_170', 'County_977', 'County_999', 'County_350', 'County_630', 'County_820', 'County_440', 'County_880', 'County_850', 'County_220', 'County_946', 'County_861', 'County_331', 'County_882', 'County_311', 'County_870', 'County_541', 'County_530', 'County_991', 'County_801', 'County_840', 'County_980', 'County_832', 'County_660', 'County_710', 'County_802', 'County_800', 'County_662', 'County_740', 'County_981', 'County_792', 'County_621', 'County_251', 'County_564', 'County_730', 'County_950', 'County_881', 'County_291', 'County_953', 'County_194', 'County_971', 'County_960', 'County_986', 'County_451', 'County_791', 'County_812', 'County_990', 'County_113', 'County_562', 'County_867', 'County_794', 'County_690', 'County_913', 'County_111', 'County_757', 'County_342', 'County_982', 'County_783', 'County_885', 'County_954', 'County_381', 'County_758', 'County_821', 'County_838', 'County_641', 'County_973', 'County_1', 'County_993', 'County_611', 'County_891', 'County_561', 'County_321', 'County_947', 'County_213', 'County_511', 'County_902', 'County_671', 'County_591', 'County_883', 'County_961', 'County_581', 'County_886', 'County_756', 'County_978', 'County_11', 'County_900', 'County_288', 'County_752', 'County_871', 'County_761', 'County_887', 'County_421', 'County_975', 'County_772', 'County_845', 'County_994', 'County_911', 'County_722', 'County_851', 'County_785', 'County_241', 'County_653', 'County_945', 'County_224', 'County_901', 'County_731', 'County_983', 'County_793', 'County_976', 'County_563', 'County_312', 'County_942', 'County_831', 'County_34', 'County_979', 'County_462', 'County_841', 'County_943', 'County_835', 'County_542', 'County_461', 'County_992', 'County_703', 'County_471', 'County_88', 'County_301', 'County_905', 'County_795', 'County_661', 'County_734', 'County_944', 'County_955', 'County_281', 'County_681', 'County_962', 'County_904', 'County_701', 'County_985', 'County_531', 'County_811', 'County_888', 'County_552', 'County_191', 'County_743', 'County_161', 'County_951', 'County_25', 'County_879', 'County_874', 'County_651', 'County_392', 'County_222', 'County_84', 'County_691', 'County_654', 'County_754', 'County_672', 'County_771', 'County_702', 'County_844', 'County_362', 'County_862', 'County_361', 'County_784', 'County_631', 'County_441', 'County_952', 'County_987', 'County_292', 'County_55', 'County_884', 'County_343', 'County_211', 'County_941', 'County_996', 'County_601', 'County_822', 'County_131', 'County_782', 'County_893', 'County_592', 'County_875', 'County_755', 'County_582', 'County_431', 'County_797', 'County_652', 'County_221', 'County_741', 'County_972', 'County_223', 'County_878', 'County_391', 'County_271', 'County_803', 'County_932', 'County_117', 'County_212', 'County_949', 'County_14', 'County_522', 'County_328', 'County_632', 'County_876', 'County_412', 'County_903', 'County_963', 'County_796', 'County_912', 'County_583', 'County_744', 'County_873', 'County_712', 'County_931', 'County_753', 'County_612', 'Gender_0', 'Gender_1', 'Race_1', 'Race_2', 'Race_3', 'Race_5', 'State_1', 'State_2', 'State_3', 'State_4', 'State_5', 'State_6', 'State_7', 'State_8', 'State_9', 'State_10', 'State_11', 'State_12', 'State_13', 'State_14', 'State_15', 'State_16', 'State_17', 'State_18', 'State_19', 'State_20', 'State_21', 'State_22', 'State_23', 'State_24', 'State_25', 'State_26', 'State_27', 'State_28', 'State_29', 'State_30', 'State_31', 'State_32', 'State_33', 'State_34', 'State_35', 'State_36', 'State_37', 'State_38', 'State_39', 'State_41', 'State_42', 'State_43', 'State_44', 'State_45', 'State_46', 'State_47', 'State_49', 'State_50', 'State_51', 'State_52', 'State_53', 'State_54', 'NoOfMonths_PartBCov_0', 'NoOfMonths_PartBCov_1', 'NoOfMonths_PartBCov_2', 'NoOfMonths_PartBCov_3', 'NoOfMonths_PartBCov_4', 'NoOfMonths_PartBCov_5', 'NoOfMonths_PartBCov_6', 'NoOfMonths_PartBCov_7', 'NoOfMonths_PartBCov_8', 'NoOfMonths_PartBCov_9', 'NoOfMonths_PartBCov_10', 'NoOfMonths_PartBCov_11', 'NoOfMonths_PartBCov_12', 'NoOfMonths_PartACov_0', 'NoOfMonths_PartACov_1', 'NoOfMonths_PartACov_2', 'NoOfMonths_PartACov_3', 'NoOfMonths_PartACov_4', 'NoOfMonths_PartACov_5', 'NoOfMonths_PartACov_6', 'NoOfMonths_PartACov_7', 'NoOfMonths_PartACov_8', 'NoOfMonths_PartACov_9', 'NoOfMonths_PartACov_10', 'NoOfMonths_PartACov_11', 'NoOfMonths_PartACov_12']\n"
          ]
        }
      ],
      "source": [
        "print(X_train.columns.tolist())"
      ]
    },
    {
      "cell_type": "code",
      "execution_count": 34,
      "metadata": {},
      "outputs": [
        {
          "name": "stdout",
          "output_type": "stream",
          "text": [
            "['PotentialFraud']\n"
          ]
        }
      ],
      "source": [
        "print(y_train.columns.tolist())"
      ]
    },
    {
      "cell_type": "code",
      "execution_count": 35,
      "metadata": {},
      "outputs": [
        {
          "name": "stdout",
          "output_type": "stream",
          "text": [
            "['InscClaimAmtReimbursed', 'DeductibleAmtPaid', 'Admitted_or_Not', 'Admitted_days', 'Claim_time', 'Amount_get', 'RenalDiseaseIndicator', 'ChronicCond_Alzheimer', 'ChronicCond_Heartfailure', 'ChronicCond_KidneyDisease', 'ChronicCond_Cancer', 'ChronicCond_ObstrPulmonary', 'ChronicCond_Depression', 'ChronicCond_Diabetes', 'ChronicCond_IschemicHeart', 'ChronicCond_Osteoporasis', 'ChronicCond_rheumatoidarthritis', 'ChronicCond_stroke', 'IPAnnualReimbursementAmt', 'IPAnnualDeductibleAmt', 'OPAnnualReimbursementAmt', 'OPAnnualDeductibleAmt', 'Dead_or_Alive', 'Age', 'Tolat_chronic_cond', 'Total_ip_op_amount_reimb', 'total_ip_op_amount_deduct', 'Mean_InscClaimAmtReimbursed', 'Mean_IPAnnualReimbursementAmt', 'Mean_OPAnnualReimbursementAmt', 'Total_physican_attended', 'Total_ClmDiagnosisCode', 'Total_ClmProcedureCode', 'ClmAdmitDiagnosisCode_42731', 'ClmAdmitDiagnosisCode_V7612', 'ClmAdmitDiagnosisCode_78605', 'ClmAdmitDiagnosisCode_78650', 'ClmAdmitDiagnosisCode_78900', 'ClmAdmitDiagnosisCode_4019', 'ClmAdmitDiagnosisCode_486', 'ClmAdmitDiagnosisCode_25000', 'ClmAdmitDiagnosisCode_78079', 'ClmAdmitDiagnosisCode_7802', 'ClmAdmitDiagnosisCode_7295', 'ClmAdmitDiagnosisCode_5990', 'ClmAdmitDiagnosisCode_V5883', 'ClmAdmitDiagnosisCode_4280', 'ClmAdmitDiagnosisCode_7242', 'ClmAdmitDiagnosisCode_7862', 'ClmAdmitDiagnosisCode_V5789', 'ClmAdmitDiagnosisCode_2724', 'ClmAdmitDiagnosisCode_V5861', 'ClmAdmitDiagnosisCode_78097', 'ClmDiagnosisCode_4019', 'ClmDiagnosisCode_4011', 'ClmDiagnosisCode_2724', 'ClmDiagnosisCode_42731', 'ClmDiagnosisCode_2720', 'ClmDiagnosisCode_2722', 'ClmDiagnosisCode_2721', 'ClmDiagnosisCode_2723', 'ClmDiagnosisCode_78659', 'ClmDiagnosisCode_25000', 'ClmDiagnosisCode_V5861', 'ClmDiagnosisCode_V5869', 'ClmDiagnosisCode_2449', 'ClmDiagnosisCode_4280', 'ClmDiagnosisCode_53081', 'ClmDiagnosisCode_41401', 'ClmDiagnosisCode_496', 'ClmDiagnosisCode_5990', 'AttendingPhysician_PHY330576', 'AttendingPhysician_PHY350277', 'AttendingPhysician_PHY412132', 'AttendingPhysician_PHY423534', 'AttendingPhysician_PHY314027', 'AttendingPhysician_PHY357120', 'AttendingPhysician_PHY337425', 'AttendingPhysician_PHY338032', 'AttendingPhysician_PHY341578', 'AttendingPhysician_PHY327046', 'OperatingPhysician_PHY330576', 'OperatingPhysician_PHY424897', 'OperatingPhysician_PHY357120', 'OperatingPhysician_PHY314027', 'OperatingPhysician_PHY333735', 'OperatingPhysician_PHY423534', 'OperatingPhysician_PHY412132', 'OperatingPhysician_PHY337425', 'OperatingPhysician_PHY381249', 'OtherPhysician_PHY412132', 'OtherPhysician_PHY341578', 'OtherPhysician_PHY338032', 'OtherPhysician_PHY337425', 'OtherPhysician_PHY347064', 'OtherPhysician_PHY322092', 'OtherPhysician_PHY409965', 'OtherPhysician_PHY313818', 'OtherPhysician_PHY350277', 'Diff_max_IPAnnualReimbursementAmt', 'Diff_max_OPAnnualReimbursementAmt', 'Diff_max_InscClaimAmtReimbursed', 'County_240', 'County_411', 'County_930', 'County_970', 'County_892', 'County_380', 'County_390', 'County_410', 'County_720', 'County_590', 'County_670', 'County_620', 'County_300', 'County_0', 'County_750', 'County_90', 'County_10', 'County_580', 'County_490', 'County_70', 'County_200', 'County_770', 'County_921', 'County_80', 'County_700', 'County_989', 'County_310', 'County_988', 'County_711', 'County_141', 'County_810', 'County_140', 'County_510', 'County_150', 'County_210', 'County_20', 'County_550', 'County_920', 'County_110', 'County_420', 'County_622', 'County_250', 'County_40', 'County_340', 'County_360', 'County_430', 'County_60', 'County_940', 'County_790', 'County_551', 'County_600', 'County_540', 'County_890', 'County_843', 'County_480', 'County_120', 'County_230', 'County_560', 'County_260', 'County_948', 'County_860', 'County_100', 'County_330', 'County_341', 'County_400', 'County_320', 'County_190', 'County_830', 'County_520', 'County_160', 'County_280', 'County_910', 'County_130', 'County_370', 'County_760', 'County_50', 'County_180', 'County_974', 'County_470', 'County_290', 'County_650', 'County_780', 'County_500', 'County_984', 'County_270', 'County_751', 'County_842', 'County_680', 'County_570', 'County_610', 'County_640', 'County_30', 'County_460', 'County_450', 'County_170', 'County_977', 'County_999', 'County_350', 'County_630', 'County_820', 'County_440', 'County_880', 'County_850', 'County_220', 'County_946', 'County_861', 'County_331', 'County_882', 'County_311', 'County_870', 'County_541', 'County_530', 'County_991', 'County_801', 'County_840', 'County_980', 'County_832', 'County_660', 'County_710', 'County_802', 'County_800', 'County_662', 'County_740', 'County_981', 'County_792', 'County_621', 'County_251', 'County_564', 'County_730', 'County_950', 'County_881', 'County_291', 'County_953', 'County_194', 'County_971', 'County_960', 'County_986', 'County_451', 'County_791', 'County_812', 'County_990', 'County_113', 'County_562', 'County_867', 'County_794', 'County_690', 'County_913', 'County_111', 'County_757', 'County_342', 'County_982', 'County_783', 'County_885', 'County_954', 'County_381', 'County_758', 'County_821', 'County_838', 'County_641', 'County_973', 'County_1', 'County_993', 'County_611', 'County_891', 'County_561', 'County_321', 'County_947', 'County_213', 'County_511', 'County_902', 'County_671', 'County_591', 'County_883', 'County_961', 'County_581', 'County_886', 'County_756', 'County_978', 'County_11', 'County_900', 'County_288', 'County_752', 'County_871', 'County_761', 'County_887', 'County_421', 'County_975', 'County_772', 'County_845', 'County_994', 'County_911', 'County_722', 'County_851', 'County_785', 'County_241', 'County_653', 'County_945', 'County_224', 'County_901', 'County_731', 'County_983', 'County_793', 'County_976', 'County_563', 'County_312', 'County_942', 'County_831', 'County_34', 'County_979', 'County_462', 'County_841', 'County_943', 'County_835', 'County_542', 'County_461', 'County_992', 'County_703', 'County_471', 'County_88', 'County_301', 'County_905', 'County_795', 'County_661', 'County_734', 'County_944', 'County_955', 'County_281', 'County_681', 'County_962', 'County_904', 'County_701', 'County_985', 'County_531', 'County_811', 'County_888', 'County_552', 'County_191', 'County_743', 'County_161', 'County_951', 'County_25', 'County_879', 'County_874', 'County_651', 'County_392', 'County_222', 'County_84', 'County_691', 'County_654', 'County_754', 'County_672', 'County_771', 'County_702', 'County_844', 'County_362', 'County_862', 'County_361', 'County_784', 'County_631', 'County_441', 'County_952', 'County_987', 'County_292', 'County_55', 'County_884', 'County_343', 'County_211', 'County_941', 'County_996', 'County_601', 'County_822', 'County_131', 'County_782', 'County_893', 'County_592', 'County_875', 'County_755', 'County_582', 'County_431', 'County_797', 'County_652', 'County_221', 'County_741', 'County_972', 'County_223', 'County_878', 'County_391', 'County_271', 'County_803', 'County_932', 'County_117', 'County_212', 'County_949', 'County_14', 'County_522', 'County_328', 'County_632', 'County_876', 'County_412', 'County_903', 'County_963', 'County_796', 'County_912', 'County_583', 'County_744', 'County_873', 'County_712', 'County_931', 'County_753', 'County_612', 'Gender_0', 'Gender_1', 'Race_1', 'Race_2', 'Race_3', 'Race_5', 'State_1', 'State_2', 'State_3', 'State_4', 'State_5', 'State_6', 'State_7', 'State_8', 'State_9', 'State_10', 'State_11', 'State_12', 'State_13', 'State_14', 'State_15', 'State_16', 'State_17', 'State_18', 'State_19', 'State_20', 'State_21', 'State_22', 'State_23', 'State_24', 'State_25', 'State_26', 'State_27', 'State_28', 'State_29', 'State_30', 'State_31', 'State_32', 'State_33', 'State_34', 'State_35', 'State_36', 'State_37', 'State_38', 'State_39', 'State_41', 'State_42', 'State_43', 'State_44', 'State_45', 'State_46', 'State_47', 'State_49', 'State_50', 'State_51', 'State_52', 'State_53', 'State_54', 'NoOfMonths_PartBCov_0', 'NoOfMonths_PartBCov_1', 'NoOfMonths_PartBCov_2', 'NoOfMonths_PartBCov_3', 'NoOfMonths_PartBCov_4', 'NoOfMonths_PartBCov_5', 'NoOfMonths_PartBCov_6', 'NoOfMonths_PartBCov_7', 'NoOfMonths_PartBCov_8', 'NoOfMonths_PartBCov_9', 'NoOfMonths_PartBCov_10', 'NoOfMonths_PartBCov_11', 'NoOfMonths_PartBCov_12', 'NoOfMonths_PartACov_0', 'NoOfMonths_PartACov_1', 'NoOfMonths_PartACov_2', 'NoOfMonths_PartACov_3', 'NoOfMonths_PartACov_4', 'NoOfMonths_PartACov_5', 'NoOfMonths_PartACov_6', 'NoOfMonths_PartACov_7', 'NoOfMonths_PartACov_8', 'NoOfMonths_PartACov_9', 'NoOfMonths_PartACov_10', 'NoOfMonths_PartACov_11', 'NoOfMonths_PartACov_12']\n"
          ]
        }
      ],
      "source": [
        "print(X_cv.columns.tolist())"
      ]
    },
    {
      "cell_type": "code",
      "execution_count": 36,
      "metadata": {},
      "outputs": [
        {
          "name": "stdout",
          "output_type": "stream",
          "text": [
            "['PotentialFraud']\n"
          ]
        }
      ],
      "source": [
        "print(y_cv.columns.tolist())"
      ]
    },
    {
      "attachments": {},
      "cell_type": "markdown",
      "metadata": {
        "id": "OteAqDRAahnu"
      },
      "source": [
        "#### Normalization"
      ]
    },
    {
      "cell_type": "code",
      "execution_count": 37,
      "metadata": {
        "id": "w8pKO-vUahnu"
      },
      "outputs": [],
      "source": [
        "# normalazition of continous data\n",
        "Cont_col=['InscClaimAmtReimbursed', 'DeductibleAmtPaid','Admitted_days', 'Claim_time',\n",
        "          'Amount_get', 'IPAnnualReimbursementAmt', 'IPAnnualDeductibleAmt', 'OPAnnualReimbursementAmt',\n",
        "          'OPAnnualDeductibleAmt',  'Age', 'Tolat_chronic_cond', 'Total_ip_op_amount_reimb', 'total_ip_op_amount_deduct',\n",
        "          'Mean_InscClaimAmtReimbursed', 'Mean_IPAnnualReimbursementAmt', 'Mean_OPAnnualReimbursementAmt', \n",
        "          'Total_physican_attended', \n",
        "          'Total_ClmDiagnosisCode', 'Total_ClmProcedureCode','Diff_max_IPAnnualReimbursementAmt',\n",
        "          'Diff_max_OPAnnualReimbursementAmt', 'Diff_max_InscClaimAmtReimbursed']\n",
        "\n",
        "for i in Cont_col:\n",
        "    data_train=np.array(X_train[i]).reshape(-1,1)\n",
        "    data_cv=np.array(X_cv[i]).reshape(-1,1)\n",
        "    X_train[i]=normalize(data_train,axis=0).ravel()\n",
        "    X_cv[i]=normalize(data_cv,axis=0).ravel()"
      ]
    },
    {
      "cell_type": "code",
      "execution_count": 38,
      "metadata": {
        "id": "PntLGuFmahnu"
      },
      "outputs": [],
      "source": [
        "# taking column names for featuere importance\n",
        "X_train_columns=X_train.columns\n",
        "y_train=np.array(y_train).ravel()\n",
        "y_cv=np.array(y_cv).ravel()"
      ]
    },
    {
      "cell_type": "code",
      "execution_count": 39,
      "metadata": {
        "id": "RLFdrTbtahnv"
      },
      "outputs": [],
      "source": [
        "# droping mean features as they cause overfitting to model.\n",
        "X_train.drop(['Mean_OPAnnualReimbursementAmt','Mean_InscClaimAmtReimbursed','Mean_IPAnnualReimbursementAmt'],axis=1,inplace=True)\n",
        "X_cv.drop(['Mean_OPAnnualReimbursementAmt','Mean_InscClaimAmtReimbursed','Mean_IPAnnualReimbursementAmt'],axis=1,inplace=True)"
      ]
    },
    {
      "cell_type": "code",
      "execution_count": 40,
      "metadata": {
        "id": "n-IjWoIkahnv",
        "outputId": "207bc414-f856-4990-d45b-f7a1435029dd"
      },
      "outputs": [
        {
          "data": {
            "text/html": [
              "<div>\n",
              "<style scoped>\n",
              "    .dataframe tbody tr th:only-of-type {\n",
              "        vertical-align: middle;\n",
              "    }\n",
              "\n",
              "    .dataframe tbody tr th {\n",
              "        vertical-align: top;\n",
              "    }\n",
              "\n",
              "    .dataframe thead th {\n",
              "        text-align: right;\n",
              "    }\n",
              "</style>\n",
              "<table border=\"1\" class=\"dataframe\">\n",
              "  <thead>\n",
              "    <tr style=\"text-align: right;\">\n",
              "      <th></th>\n",
              "      <th>InscClaimAmtReimbursed</th>\n",
              "      <th>DeductibleAmtPaid</th>\n",
              "      <th>Admitted_or_Not</th>\n",
              "      <th>Admitted_days</th>\n",
              "      <th>Claim_time</th>\n",
              "      <th>Amount_get</th>\n",
              "      <th>RenalDiseaseIndicator</th>\n",
              "      <th>ChronicCond_Alzheimer</th>\n",
              "      <th>ChronicCond_Heartfailure</th>\n",
              "      <th>ChronicCond_KidneyDisease</th>\n",
              "      <th>...</th>\n",
              "      <th>NoOfMonths_PartACov_3</th>\n",
              "      <th>NoOfMonths_PartACov_4</th>\n",
              "      <th>NoOfMonths_PartACov_5</th>\n",
              "      <th>NoOfMonths_PartACov_6</th>\n",
              "      <th>NoOfMonths_PartACov_7</th>\n",
              "      <th>NoOfMonths_PartACov_8</th>\n",
              "      <th>NoOfMonths_PartACov_9</th>\n",
              "      <th>NoOfMonths_PartACov_10</th>\n",
              "      <th>NoOfMonths_PartACov_11</th>\n",
              "      <th>NoOfMonths_PartACov_12</th>\n",
              "    </tr>\n",
              "  </thead>\n",
              "  <tbody>\n",
              "    <tr>\n",
              "      <th>0</th>\n",
              "      <td>0.000053</td>\n",
              "      <td>0.0</td>\n",
              "      <td>0</td>\n",
              "      <td>0.000994</td>\n",
              "      <td>0.000415</td>\n",
              "      <td>0.000056</td>\n",
              "      <td>1</td>\n",
              "      <td>1</td>\n",
              "      <td>1</td>\n",
              "      <td>1</td>\n",
              "      <td>...</td>\n",
              "      <td>0</td>\n",
              "      <td>0</td>\n",
              "      <td>0</td>\n",
              "      <td>0</td>\n",
              "      <td>0</td>\n",
              "      <td>0</td>\n",
              "      <td>0</td>\n",
              "      <td>0</td>\n",
              "      <td>0</td>\n",
              "      <td>1</td>\n",
              "    </tr>\n",
              "    <tr>\n",
              "      <th>1</th>\n",
              "      <td>0.000708</td>\n",
              "      <td>0.0</td>\n",
              "      <td>0</td>\n",
              "      <td>0.000994</td>\n",
              "      <td>0.000415</td>\n",
              "      <td>0.000743</td>\n",
              "      <td>1</td>\n",
              "      <td>0</td>\n",
              "      <td>1</td>\n",
              "      <td>0</td>\n",
              "      <td>...</td>\n",
              "      <td>0</td>\n",
              "      <td>0</td>\n",
              "      <td>0</td>\n",
              "      <td>0</td>\n",
              "      <td>0</td>\n",
              "      <td>0</td>\n",
              "      <td>0</td>\n",
              "      <td>0</td>\n",
              "      <td>0</td>\n",
              "      <td>1</td>\n",
              "    </tr>\n",
              "    <tr>\n",
              "      <th>2</th>\n",
              "      <td>0.000118</td>\n",
              "      <td>0.0</td>\n",
              "      <td>0</td>\n",
              "      <td>0.000994</td>\n",
              "      <td>0.000415</td>\n",
              "      <td>0.000124</td>\n",
              "      <td>0</td>\n",
              "      <td>1</td>\n",
              "      <td>1</td>\n",
              "      <td>1</td>\n",
              "      <td>...</td>\n",
              "      <td>0</td>\n",
              "      <td>0</td>\n",
              "      <td>0</td>\n",
              "      <td>0</td>\n",
              "      <td>0</td>\n",
              "      <td>0</td>\n",
              "      <td>0</td>\n",
              "      <td>0</td>\n",
              "      <td>0</td>\n",
              "      <td>1</td>\n",
              "    </tr>\n",
              "    <tr>\n",
              "      <th>3</th>\n",
              "      <td>0.000012</td>\n",
              "      <td>0.0</td>\n",
              "      <td>0</td>\n",
              "      <td>0.000994</td>\n",
              "      <td>0.000415</td>\n",
              "      <td>0.000012</td>\n",
              "      <td>0</td>\n",
              "      <td>1</td>\n",
              "      <td>0</td>\n",
              "      <td>1</td>\n",
              "      <td>...</td>\n",
              "      <td>0</td>\n",
              "      <td>0</td>\n",
              "      <td>0</td>\n",
              "      <td>0</td>\n",
              "      <td>0</td>\n",
              "      <td>0</td>\n",
              "      <td>0</td>\n",
              "      <td>0</td>\n",
              "      <td>0</td>\n",
              "      <td>1</td>\n",
              "    </tr>\n",
              "    <tr>\n",
              "      <th>4</th>\n",
              "      <td>0.000053</td>\n",
              "      <td>0.0</td>\n",
              "      <td>0</td>\n",
              "      <td>0.000994</td>\n",
              "      <td>0.000415</td>\n",
              "      <td>0.000056</td>\n",
              "      <td>0</td>\n",
              "      <td>0</td>\n",
              "      <td>0</td>\n",
              "      <td>0</td>\n",
              "      <td>...</td>\n",
              "      <td>0</td>\n",
              "      <td>0</td>\n",
              "      <td>0</td>\n",
              "      <td>0</td>\n",
              "      <td>0</td>\n",
              "      <td>0</td>\n",
              "      <td>0</td>\n",
              "      <td>0</td>\n",
              "      <td>0</td>\n",
              "      <td>1</td>\n",
              "    </tr>\n",
              "  </tbody>\n",
              "</table>\n",
              "<p>5 rows × 493 columns</p>\n",
              "</div>"
            ],
            "text/plain": [
              "   InscClaimAmtReimbursed  DeductibleAmtPaid  Admitted_or_Not  Admitted_days  \\\n",
              "0                0.000053                0.0                0       0.000994   \n",
              "1                0.000708                0.0                0       0.000994   \n",
              "2                0.000118                0.0                0       0.000994   \n",
              "3                0.000012                0.0                0       0.000994   \n",
              "4                0.000053                0.0                0       0.000994   \n",
              "\n",
              "   Claim_time  Amount_get  RenalDiseaseIndicator  ChronicCond_Alzheimer  \\\n",
              "0    0.000415    0.000056                      1                      1   \n",
              "1    0.000415    0.000743                      1                      0   \n",
              "2    0.000415    0.000124                      0                      1   \n",
              "3    0.000415    0.000012                      0                      1   \n",
              "4    0.000415    0.000056                      0                      0   \n",
              "\n",
              "   ChronicCond_Heartfailure  ChronicCond_KidneyDisease  ...  \\\n",
              "0                         1                          1  ...   \n",
              "1                         1                          0  ...   \n",
              "2                         1                          1  ...   \n",
              "3                         0                          1  ...   \n",
              "4                         0                          0  ...   \n",
              "\n",
              "   NoOfMonths_PartACov_3  NoOfMonths_PartACov_4  NoOfMonths_PartACov_5  \\\n",
              "0                      0                      0                      0   \n",
              "1                      0                      0                      0   \n",
              "2                      0                      0                      0   \n",
              "3                      0                      0                      0   \n",
              "4                      0                      0                      0   \n",
              "\n",
              "   NoOfMonths_PartACov_6  NoOfMonths_PartACov_7  NoOfMonths_PartACov_8  \\\n",
              "0                      0                      0                      0   \n",
              "1                      0                      0                      0   \n",
              "2                      0                      0                      0   \n",
              "3                      0                      0                      0   \n",
              "4                      0                      0                      0   \n",
              "\n",
              "   NoOfMonths_PartACov_9  NoOfMonths_PartACov_10  NoOfMonths_PartACov_11  \\\n",
              "0                      0                       0                       0   \n",
              "1                      0                       0                       0   \n",
              "2                      0                       0                       0   \n",
              "3                      0                       0                       0   \n",
              "4                      0                       0                       0   \n",
              "\n",
              "   NoOfMonths_PartACov_12  \n",
              "0                       1  \n",
              "1                       1  \n",
              "2                       1  \n",
              "3                       1  \n",
              "4                       1  \n",
              "\n",
              "[5 rows x 493 columns]"
            ]
          },
          "execution_count": 40,
          "metadata": {},
          "output_type": "execute_result"
        }
      ],
      "source": [
        "X_cv.head()\n",
        "# data_cv.ravel()"
      ]
    },
    {
      "attachments": {},
      "cell_type": "markdown",
      "metadata": {
        "id": "S3ZpdM-Wahnv"
      },
      "source": [
        "### Modeling on dataset_1"
      ]
    },
    {
      "cell_type": "code",
      "execution_count": 41,
      "metadata": {
        "id": "B2WhSlUHahnv"
      },
      "outputs": [],
      "source": [
        "#refrence: appliedroots.com\n",
        "import sklearn\n",
        "def find_best_threshold(threshould, fpr, tpr):\n",
        "    t = threshould[np.argmax(tpr*(1-fpr))]\n",
        "    # (tpr*(1-fpr)) will be maximum if your fpr is very low and tpr is very high\n",
        "    print(\"the maximum value of tpr*(1-fpr)\", max(tpr*(1-fpr)), \"for threshold\", np.round(t,3))\n",
        "    return t\n",
        "\n",
        "def predict_with_best_t(proba, threshould):\n",
        "    predictions = []\n",
        "    for i in proba:\n",
        "        if i>=threshould:\n",
        "            predictions.append(1)\n",
        "        else:\n",
        "            predictions.append(0)\n",
        "    return predictions\n",
        "\n",
        "\n",
        "\n",
        "def plot_roc_confusion_matrix_f1(model,x_tr,y_tr,x_te,y_te):\n",
        "    y_predict_tr=model.predict_proba(x_tr)[:,1]\n",
        "    fpr_tr,tpr_tr,thresold_tr=roc_curve(y_tr,y_predict_tr)\n",
        "    y_predict_te=model.predict_proba(x_te)[:,1]\n",
        "    fpr_te,tpr_te,thresold_te=roc_curve(y_te,y_predict_te)\n",
        "    \n",
        "    \n",
        "\n",
        "    plt.figure(1)\n",
        "    plt.figure(figsize=(7,4))\n",
        "#     plt.subplot(3,1,1)\n",
        "\n",
        "    plt.plot(fpr_tr, tpr_tr, label=\"train AUC =\"+str(auc(fpr_tr, tpr_tr)))\n",
        "    plt.plot(fpr_te, tpr_te, label=\"test AUC =\"+str(auc(fpr_te, tpr_te)))\n",
        "    auc_score_test=auc(fpr_te, tpr_te)\n",
        "\n",
        "    plt.legend()\n",
        "    plt.xlabel(\"fpr\")\n",
        "    plt.ylabel(\"tpr\")\n",
        "    plt.title(\"ROC_CURVE\")\n",
        "    plt.grid(True)\n",
        "    plt.show()\n",
        "\n",
        "    train_best_threshold=find_best_threshold(thresold_tr,fpr_tr,tpr_tr)\n",
        "    test_best_threshold=find_best_threshold(thresold_te,fpr_te,tpr_te)\n",
        "\n",
        "    prediction_tr=predict_with_best_t(y_predict_tr,train_best_threshold)\n",
        "    prediction_te=predict_with_best_t(y_predict_te,test_best_threshold)\n",
        "    \n",
        "    plt.figure(2)\n",
        "    plt.figure(figsize=(5,5))\n",
        "\n",
        "    plt.subplot(2,1,1)\n",
        "    conf_mat = pd.DataFrame(confusion_matrix(y_tr, prediction_tr))\n",
        "\n",
        "    sns.heatmap(conf_mat, annot = True, fmt= 'd',annot_kws={\"size\": 15}, xticklabels= ['Predicted No', 'Predicted Yes'], yticklabels= ['Actaual No','Actual Yes'])\n",
        "    plt.title('confusion matrix of train data')\n",
        "    plt.xlabel('Actual')\n",
        "    plt.ylabel('predicted')\n",
        "    plt.show()\n",
        "    plt.figure(figsize=(5,5))\n",
        "    plt.subplot(2,1,2)\n",
        "    conf_mat_te = pd.DataFrame(sklearn.metrics.confusion_matrix(y_te,prediction_te))\n",
        "\n",
        "    sns.heatmap(conf_mat_te, annot = True, fmt= 'd',annot_kws={\"size\": 15}, xticklabels= ['Predicted No', 'Predicted Yes'], yticklabels= ['Actaual No','Actual Yes'])\n",
        "    plt.title('confusion matrix of test data')\n",
        "    plt.xlabel('Actual')\n",
        "    plt.ylabel('predicted')\n",
        "    plt.show()\n",
        "    \n",
        "     \n",
        "\n",
        "    print('train_auc_score =',auc(fpr_tr, tpr_tr))\n",
        "    print('validation_auc_score =',auc(fpr_te, tpr_te))\n",
        "    print('-'*110)\n",
        "    print('logloss Train:--',sklearn.metrics.log_loss(y_tr,prediction_tr))\n",
        "    print('logloss Test:--',sklearn.metrics.log_loss(y_te,prediction_te))\n",
        "    print('-'*110)\n",
        "    print('F1 Train:--',sklearn.metrics.f1_score(y_tr,prediction_tr))\n",
        "    print('F1 Test:--',sklearn.metrics.f1_score(y_te,prediction_te))\n",
        "   "
      ]
    },
    {
      "attachments": {},
      "cell_type": "markdown",
      "metadata": {
        "id": "_znmFB9dahnw"
      },
      "source": [
        "#### 1. Logistic regression"
      ]
    },
    {
      "cell_type": "code",
      "execution_count": 42,
      "metadata": {},
      "outputs": [],
      "source": [
        "# # define the hyperparameter search space\n",
        "# param_distributions = {\n",
        "#     'C': loguniform(0.1, 10),\n",
        "#     'penalty': ['l1', 'l2']\n",
        "# }\n",
        "\n",
        "# # create the logistic regression model\n",
        "# model = LogisticRegression()\n",
        "\n",
        "# # perform the randomized search\n",
        "# model_random_search = RandomizedSearchCV(model, param_distributions, n_iter=50, n_jobs=-1, cv=10, verbose=2, scoring='roc_auc')\n",
        "# model_random_search.fit(X_train, y_train)\n",
        "\n",
        "# # retrieve the best hyperparameters\n",
        "# best_params = model_random_search.best_params_\n",
        "# print(best_params)"
      ]
    },
    {
      "cell_type": "code",
      "execution_count": 43,
      "metadata": {
        "id": "9BE-_3cEahnw",
        "outputId": "8b539731-1f1f-4fa0-f3e8-154971525932"
      },
      "outputs": [],
      "source": [
        "# model_logistic=LogisticRegression()\n",
        "# parameters={'C':np.logspace(-1,1,7),\n",
        "#            'penalty':['l1', 'l2']}\n",
        "\n",
        "# model_lr_grid=GridSearchCV(model_logistic,parameters,n_jobs=-1,cv=5,verbose=2,return_train_score=True,scoring='roc_auc')\n",
        "# model_lr_grid=model_lr_grid.fit(X_train,y_train)\n",
        "# best_para=model_lr_grid.best_params_\n",
        "# print(best_para)\n",
        "# # best_para=best_para.values()"
      ]
    },
    {
      "cell_type": "code",
      "execution_count": 44,
      "metadata": {
        "id": "P5l3YtXvahnw",
        "outputId": "e2393963-b2c6-46db-c948-aea3f5f8943c"
      },
      "outputs": [],
      "source": [
        "# # modeling with best hypermeters:\n",
        "# model_lr_best=LogisticRegression(C=best_para.get('C'),penalty=best_para.get(\"penalty\"))\n",
        "# model_lr_best=model_lr_best.fit(X_train,y_train)\n",
        "# clf_model_lr_best=CalibratedClassifierCV(model_lr_best)\n",
        "# clf_model_lr_best.fit(X_train,y_train)\n",
        "\n",
        "# # getting validation score\n",
        "# plot_roc_confusion_matrix_f1(clf_model_lr_best,X_train,y_train,X_cv,y_cv)"
      ]
    },
    {
      "attachments": {},
      "cell_type": "markdown",
      "metadata": {
        "id": "E1ygKvanahnw"
      },
      "source": [
        "#### 2. Naive Bayes"
      ]
    },
    {
      "cell_type": "code",
      "execution_count": 45,
      "metadata": {
        "id": "LhYhfFmnahnw",
        "outputId": "19020262-0cfb-4787-f8c0-3ecbee7e120c"
      },
      "outputs": [],
      "source": [
        "\n",
        "# # gaussian navie bayes wihtout prior\n",
        "# from sklearn.naive_bayes import GaussianNB\n",
        "# model_gaussian=GaussianNB()\n",
        "# model_gaussian.fit(X_train,y_train)\n",
        "\n",
        "# clf_model_gaussian=CalibratedClassifierCV(model_gaussian)\n",
        "# clf_model_gaussian.fit(X_train,y_train)\n",
        "\n",
        "\n",
        "# plot_roc_confusion_matrix_f1(clf_model_gaussian,X_train,y_train,X_cv,y_cv)"
      ]
    },
    {
      "cell_type": "code",
      "execution_count": 46,
      "metadata": {
        "id": "lObhDhxHahnx",
        "outputId": "955d590d-874b-4133-a1a5-94aa55140535"
      },
      "outputs": [],
      "source": [
        "# # gaussian naive bayes with priors[0.5,.0.5] # for balancing data\n",
        "# from sklearn.naive_bayes import GaussianNB\n",
        "# model_gaussian=GaussianNB(priors=[0.5,0.5])\n",
        "# model_gaussian.fit(X_train,y_train)\n",
        "\n",
        "# clf_model_gaussian=CalibratedClassifierCV(model_gaussian)\n",
        "# clf_model_gaussian.fit(X_train,y_train)\n",
        "\n",
        "\n",
        "# plot_roc_confusion_matrix_f1(clf_model_gaussian,X_train,y_train,X_cv,y_cv)\n"
      ]
    },
    {
      "attachments": {},
      "cell_type": "markdown",
      "metadata": {
        "id": "TGX_TVojahnx"
      },
      "source": [
        "#### 3. Decision Tree"
      ]
    },
    {
      "cell_type": "code",
      "execution_count": 47,
      "metadata": {
        "id": "6oy8Mfeoahnx",
        "outputId": "2fc382f0-8362-419e-dea5-4971e2058b97"
      },
      "outputs": [],
      "source": [
        "# from sklearn.tree import DecisionTreeClassifier \n",
        "\n",
        "# parameters = {'criterion':['gini'], \n",
        "#               'max_depth': [10,20,25,50],\n",
        "#               'min_samples_split': [5, 10,12,15]}\n",
        "\n",
        "# model_dec=DecisionTreeClassifier()\n",
        "\n",
        "\n",
        "# dec_grid=GridSearchCV(model_dec,parameters,n_jobs=-1,cv=5,verbose=3,return_train_score=True,scoring='roc_auc')\n",
        "# dec_grid.fit(X_train,y_train)\n",
        "# best_grid_dec=dec_grid.best_params_\n",
        "# print(best_grid_dec)\n",
        "\n",
        "# best_model_dec=DecisionTreeClassifier(criterion=best_grid_dec.get('criterion'),max_depth=best_grid_dec.get('max_depth'),\n",
        "#                                      min_samples_split=best_grid_dec.get('min_samples_split'))\n",
        "# best_model_dec.fit(X_train,y_train)\n",
        "# clf_best_model_dec=CalibratedClassifierCV(best_model_dec)\n",
        "# clf_best_model_dec.fit(X_train,y_train)\n",
        "\n",
        "# plot_roc_confusion_matrix_f1(clf_best_model_dec,X_train,y_train,X_cv,y_cv)\n"
      ]
    },
    {
      "attachments": {},
      "cell_type": "markdown",
      "metadata": {
        "id": "EsvOC1Khahnx"
      },
      "source": [
        "#### 4.Random Forest"
      ]
    },
    {
      "cell_type": "code",
      "execution_count": 48,
      "metadata": {
        "id": "teqjtL79ahnx",
        "outputId": "67eb1c03-2f75-49e4-ce0f-bdd1eb93fa19"
      },
      "outputs": [],
      "source": [
        "# from sklearn.ensemble import RandomForestClassifier\n",
        "# model_ramdom_forest=RandomForestClassifier()\n",
        "\n",
        "\n",
        "# parameters = {'max_features': [ 'sqrt'], \n",
        "#               'max_depth': [5,7,10,12],\n",
        "#               'min_samples_split': [2,3,4],\n",
        "#              'n_estimators': [150,200,250],\n",
        "#              'criterion' :['gini']}\n",
        "\n",
        "\n",
        "\n",
        "# rf_grid=GridSearchCV(model_ramdom_forest,parameters,n_jobs=-1,cv=5,verbose=5,return_train_score=True,scoring='roc_auc')\n",
        "# rf_grid.fit(X_train,y_train)\n",
        "# best_grid_rf=rf_grid.best_params_\n",
        "# print(best_grid_rf)\n",
        "\n",
        "# best_model_rf=RandomForestClassifier(max_features=best_grid_rf.get('max_features'),max_depth=best_grid_rf.get('max_depth'),\n",
        "#                         min_samples_split=best_grid_rf.get('min_samples_split'),n_estimators=best_grid_rf.get('n_estimators'),\n",
        "#                         criterion=best_grid_rf.get('criterion'),n_jobs=-1 )\n",
        "# best_model_rf.fit(X_train,y_train)\n",
        "# clf_best_model_rf=CalibratedClassifierCV(best_model_rf)\n",
        "# clf_best_model_rf.fit(X_train,y_train)\n",
        "\n",
        "# plot_roc_confusion_matrix_f1(clf_best_model_rf,X_train,y_train,X_cv,y_cv)\n"
      ]
    },
    {
      "cell_type": "code",
      "execution_count": 49,
      "metadata": {
        "id": "fcy5pnHfahny"
      },
      "outputs": [],
      "source": [
        "# def important_feature_selection(randomj_forest_model,col_name,num_feature_take):\n",
        "\n",
        "#     # argsort sort indices in the incressing order\n",
        "    \n",
        "#     top_feature_index=np.argsort(randomj_forest_model.feature_importances_)[::-1]\n",
        "    \n",
        "#     ## for ploting\n",
        "#     top_value=np.take(randomj_forest_model.feature_importances_,top_feature_index[:20])\n",
        "#     top_feature_name = np.take(col_name, top_feature_index[:20])\n",
        "\n",
        "\n",
        "#     sns.set()\n",
        "#     plt.figure(figsize = (10, 5))\n",
        "#     ax = sns.barplot(y = top_feature_name, x = top_value)\n",
        "# #     ax.set_xticklabels(labels = top_feature_name, rotation = 45)\n",
        "#     sns.set_palette(reversed(sns.color_palette(\"husl\", 10)), 10)\n",
        "#     plt.title('Important Features')\n",
        "#     plt.ylabel('Feature Names')\n",
        "#     plt.xlabel('Importance')\n",
        "#     plt.show()\n",
        "#     return top_feature_index[:num_feature_take]"
      ]
    },
    {
      "cell_type": "code",
      "execution_count": 50,
      "metadata": {
        "id": "pXFCfCKmahny"
      },
      "outputs": [],
      "source": [
        "###checking important features."
      ]
    },
    {
      "cell_type": "code",
      "execution_count": 51,
      "metadata": {
        "id": "e961fUFeahny",
        "outputId": "6bea8bb6-25da-4708-fdab-1d1f04d6cc9f",
        "scrolled": true
      },
      "outputs": [],
      "source": [
        "# d1_important_inc=important_feature_selection(best_model_rf,X_train.columns,200)"
      ]
    },
    {
      "cell_type": "code",
      "execution_count": null,
      "metadata": {
        "id": "qzJqORssahny"
      },
      "outputs": [],
      "source": []
    },
    {
      "attachments": {},
      "cell_type": "markdown",
      "metadata": {
        "id": "mGg4IkOVahny"
      },
      "source": [
        "#### 5. LightGBM"
      ]
    },
    {
      "cell_type": "code",
      "execution_count": 52,
      "metadata": {
        "id": "55OLimfhahnz",
        "outputId": "4346f486-aa53-4d59-94ad-d0596830a33d"
      },
      "outputs": [
        {
          "data": {
            "text/plain": [
              "<Figure size 640x480 with 0 Axes>"
            ]
          },
          "metadata": {},
          "output_type": "display_data"
        },
        {
          "data": {
            "image/png": "[encoded data removed]",
            "text/plain": [
              "<Figure size 700x400 with 1 Axes>"
            ]
          },
          "metadata": {},
          "output_type": "display_data"
        },
        {
          "name": "stdout",
          "output_type": "stream",
          "text": [
            "the maximum value of tpr*(1-fpr) 0.60657543455156 for threshold 0.368\n",
            "the maximum value of tpr*(1-fpr) 0.5858516757029045 for threshold 0.382\n"
          ]
        },
        {
          "data": {
            "text/plain": [
              "<Figure size 640x480 with 0 Axes>"
            ]
          },
          "metadata": {},
          "output_type": "display_data"
        },
        {
          "data": {
            "image/png": "[encoded data removed]",
            "text/plain": [
              "<Figure size 500x500 with 2 Axes>"
            ]
          },
          "metadata": {},
          "output_type": "display_data"
        },
        {
          "data": {
            "image/png": "[encoded data removed]",
            "text/plain": [
              "<Figure size 500x500 with 2 Axes>"
            ]
          },
          "metadata": {},
          "output_type": "display_data"
        },
        {
          "name": "stdout",
          "output_type": "stream",
          "text": [
            "train_auc_score = 0.8571020635603784\n",
            "validation_auc_score = 0.8410542405603545\n",
            "--------------------------------------------------------------------------------------------------------------\n",
            "logloss Train:-- 7.749653877874867\n",
            "logloss Test:-- 8.202518830276205\n",
            "--------------------------------------------------------------------------------------------------------------\n",
            "F1 Train:-- 0.728022972255387\n",
            "F1 Test:-- 0.7121423323330884\n"
          ]
        }
      ],
      "source": [
        "#https://www.kaggle.com/prashant111/lightgbm-classifier-in-python\n",
        "import lightgbm as lgb\n",
        "\n",
        "# clf = lgb.LGBMClassifier()\n",
        "# prams={\n",
        "#     'learning_rate':[0.1,0.15,0.2],\n",
        "#      'n_estimators':[200,500,900],\n",
        "#      'max_depth':[5,7,10]\n",
        "# }\n",
        "\n",
        "# random_cfl1=GridSearchCV(clf,prams,verbose=2,n_jobs=-1,)\n",
        "# random_cfl1.fit(X_train,y_train)\n",
        "# print(random_cfl1.best_params_)\n",
        "# best_para=random_cfl1.best_params_\n",
        "\n",
        "best_para={'n_estimators': 900, 'max_depth': 5, 'learning_rate': 0.15}\n",
        "\n",
        "clf_lg = lgb.LGBMClassifier(n_estimators=best_para.get('n_estimators'),\n",
        "                       max_depth=best_para.get('max_depth'),learning_rate=best_para.get('learning_rate'))\n",
        "# clf=lgb.LGBMClassifier()\n",
        "clf_lg.fit(X_train,y_train)\n",
        "\n",
        "plot_roc_confusion_matrix_f1(clf_lg,X_train,y_train,X_cv,y_cv)"
      ]
    },
    {
      "cell_type": "code",
      "execution_count": 53,
      "metadata": {
        "id": "yxLzsnDKahnz",
        "outputId": "4b0f53a5-554e-483b-e5fd-cb86e62233b4"
      },
      "outputs": [
        {
          "data": {
            "text/plain": [
              "['model.pkl']"
            ]
          },
          "execution_count": 53,
          "metadata": {},
          "output_type": "execute_result"
        }
      ],
      "source": [
        "## saving the best model for future use\n",
        "joblib.dump(clf_lg,'model.pkl')"
      ]
    },
    {
      "attachments": {},
      "cell_type": "markdown",
      "metadata": {
        "id": "Jqe_a7J6ahnz"
      },
      "source": [
        "### Modeling on Top 200 important featues"
      ]
    },
    {
      "cell_type": "code",
      "execution_count": 54,
      "metadata": {
        "id": "Rw0kjYBIahnz",
        "outputId": "f438db24-503f-4429-f01c-d8e57fe42b21"
      },
      "outputs": [
        {
          "ename": "NameError",
          "evalue": "name 'd1_important_inc' is not defined",
          "output_type": "error",
          "traceback": [
            "\u001b[1;31m---------------------------------------------------------------------------\u001b[0m",
            "\u001b[1;31mNameError\u001b[0m                                 Traceback (most recent call last)",
            "Cell \u001b[1;32mIn[54], line 2\u001b[0m\n\u001b[0;32m      1\u001b[0m \u001b[39m# train model on important featues\u001b[39;00m\n\u001b[1;32m----> 2\u001b[0m colum_name\u001b[39m=\u001b[39mnp\u001b[39m.\u001b[39mtake(X_train\u001b[39m.\u001b[39mcolumns,d1_important_inc) \u001b[39m# getting featues imporance form previously trained random forest.\u001b[39;00m\n\u001b[0;32m      3\u001b[0m X_train_imp\u001b[39m=\u001b[39mX_train[colum_name] \n\u001b[0;32m      4\u001b[0m X_train_imp\u001b[39m.\u001b[39mshape\n",
            "\u001b[1;31mNameError\u001b[0m: name 'd1_important_inc' is not defined"
          ]
        }
      ],
      "source": [
        "# # train model on important featues\n",
        "# colum_name=np.take(X_train.columns,d1_important_inc) # getting featues imporance form previously trained random forest.\n",
        "# X_train_imp=X_train[colum_name] \n",
        "# X_train_imp.shape\n",
        "# X_cv_imp=X_cv[colum_name]\n",
        "# X_cv_imp.shape"
      ]
    },
    {
      "cell_type": "code",
      "execution_count": 55,
      "metadata": {
        "id": "NJUXFLTDahnz",
        "outputId": "ccbb9daa-37ce-4564-d38a-300eb1ccac66"
      },
      "outputs": [
        {
          "ename": "NameError",
          "evalue": "name 'X_train_imp' is not defined",
          "output_type": "error",
          "traceback": [
            "\u001b[1;31m---------------------------------------------------------------------------\u001b[0m",
            "\u001b[1;31mNameError\u001b[0m                                 Traceback (most recent call last)",
            "Cell \u001b[1;32mIn[55], line 7\u001b[0m\n\u001b[0;32m      2\u001b[0m best_para\u001b[39m=\u001b[39m{\u001b[39m'\u001b[39m\u001b[39msubsample\u001b[39m\u001b[39m'\u001b[39m: \u001b[39m0.3\u001b[39m, \u001b[39m'\u001b[39m\u001b[39mn_estimators\u001b[39m\u001b[39m'\u001b[39m: \u001b[39m900\u001b[39m, \u001b[39m'\u001b[39m\u001b[39mmax_depth\u001b[39m\u001b[39m'\u001b[39m: \u001b[39m5\u001b[39m, \u001b[39m'\u001b[39m\u001b[39mlearning_rate\u001b[39m\u001b[39m'\u001b[39m: \u001b[39m0.15\u001b[39m, \u001b[39m'\u001b[39m\u001b[39mcolsample_bytree\u001b[39m\u001b[39m'\u001b[39m: \u001b[39m0.1\u001b[39m}\n\u001b[0;32m      4\u001b[0m clf \u001b[39m=\u001b[39m lgb\u001b[39m.\u001b[39mLGBMClassifier(subsample\u001b[39m=\u001b[39mbest_para\u001b[39m.\u001b[39mget(\u001b[39m'\u001b[39m\u001b[39msubsample\u001b[39m\u001b[39m'\u001b[39m),n_estimators\u001b[39m=\u001b[39mbest_para\u001b[39m.\u001b[39mget(\u001b[39m'\u001b[39m\u001b[39mn_estimators\u001b[39m\u001b[39m'\u001b[39m),\n\u001b[0;32m      5\u001b[0m                        max_depth\u001b[39m=\u001b[39mbest_para\u001b[39m.\u001b[39mget(\u001b[39m'\u001b[39m\u001b[39mmax_depth\u001b[39m\u001b[39m'\u001b[39m),learning_rate\u001b[39m=\u001b[39mbest_para\u001b[39m.\u001b[39mget(\u001b[39m'\u001b[39m\u001b[39mlearning_rate\u001b[39m\u001b[39m'\u001b[39m),\n\u001b[0;32m      6\u001b[0m                         colsample_bytree\u001b[39m=\u001b[39mbest_para\u001b[39m.\u001b[39mget(\u001b[39m'\u001b[39m\u001b[39mcolsample_bytree\u001b[39m\u001b[39m'\u001b[39m))\n\u001b[1;32m----> 7\u001b[0m clf\u001b[39m.\u001b[39mfit(X_train_imp,y_train)\n\u001b[0;32m      9\u001b[0m plot_roc_confusion_matrix_f1(clf,X_train_imp,y_train,X_cv_imp,y_cv)\n",
            "\u001b[1;31mNameError\u001b[0m: name 'X_train_imp' is not defined"
          ]
        }
      ],
      "source": [
        "# Appling the best featues on lightgbm\n",
        "best_para={'subsample': 0.3, 'n_estimators': 900, 'max_depth': 5, 'learning_rate': 0.15, 'colsample_bytree': 0.1}\n",
        "\n",
        "clf = lgb.LGBMClassifier(subsample=best_para.get('subsample'),n_estimators=best_para.get('n_estimators'),\n",
        "                       max_depth=best_para.get('max_depth'),learning_rate=best_para.get('learning_rate'),\n",
        "                        colsample_bytree=best_para.get('colsample_bytree'))\n",
        "clf.fit(X_train_imp,y_train)\n",
        "\n",
        "plot_roc_confusion_matrix_f1(clf,X_train_imp,y_train,X_cv_imp,y_cv)\n"
      ]
    },
    {
      "attachments": {},
      "cell_type": "markdown",
      "metadata": {
        "id": "cgIgSSlbahn0"
      },
      "source": [
        "## Behaviour of  best Model\n",
        "\n",
        "Our main Aim is here to find why our model predicting a  False postive (Non fraud provider to Fraud) and  a False negative \n",
        "(Farud to Non fraud) label. \n",
        "\n",
        "To answer this question here we are checking the distribution of the featues which are False positive or False Negative by Positive labeled data (only fraud data) and Negative Labeled data(only non-fraud data) respectively to understand the behaviour of the model."
      ]
    },
    {
      "cell_type": "code",
      "execution_count": null,
      "metadata": {
        "id": "R-24WcWsahn0",
        "outputId": "41d955e5-d70b-495d-d9d3-cd058cb7d0af"
      },
      "outputs": [],
      "source": [
        "# prediction based on best threshold.\n",
        "y_predidict=clf_lg.predict_proba(X_cv)[:,1]\n",
        "prediction_tr=predict_with_best_t(y_predidict,0.382)\n",
        "\n",
        "conf_mat = pd.DataFrame(confusion_matrix(y_cv, prediction_tr))\n",
        "\n",
        "sns.heatmap(conf_mat, annot = True, fmt= 'd',annot_kws={\"size\": 15}, xticklabels= ['Predicted No', 'Predicted Yes'], yticklabels= ['Actaual No','Actual Yes'])\n",
        "plt.title('confusion matrix of test data')\n",
        "plt.xlabel('Actual')\n",
        "plt.ylabel('predicted')\n",
        "plt.show()"
      ]
    },
    {
      "cell_type": "code",
      "execution_count": null,
      "metadata": {
        "id": "CIMIm6eBahn0"
      },
      "outputs": [],
      "source": [
        "# adding actual label and predicted label to dataframe\n",
        "X_cv['Actual_y']=y_cv\n",
        "X_cv['predicted_y']=prediction_tr\n",
        "# sepating diffrent dataframe based on its predicted and actual label\n",
        "False_negative_df=X_cv.loc[(X_cv['Actual_y'] ==1) & (X_cv['predicted_y']==0)]\n",
        "false_positive_df=X_cv.loc[(X_cv['Actual_y'] ==0) & (X_cv['predicted_y']==1)]\n",
        "positive_df=X_cv.loc[(X_cv['Actual_y'] ==1)]\n",
        "negative_df=X_cv.loc[(X_cv['Actual_y'] ==0)]\n"
      ]
    },
    {
      "cell_type": "code",
      "execution_count": null,
      "metadata": {
        "id": "uJfDbNLZahn0",
        "outputId": "2b52753f-b7a1-40f0-ab18-4e481855f084"
      },
      "outputs": [],
      "source": [
        "## \n",
        "print('False_positve',len(false_positive_df))\n",
        "print('False_negative',len(False_negative_df))\n",
        "print('Total_positive', len(positive_df))\n",
        "print('Total_negative',len(negative_df))"
      ]
    },
    {
      "cell_type": "code",
      "execution_count": null,
      "metadata": {
        "id": "sX8C5curahn0",
        "outputId": "84958785-ae68-4d8a-ec8b-06f9b673bb97"
      },
      "outputs": [],
      "source": [
        "plt.figure(figsize=(16,6)) # hight and width of plot \n",
        "sns.set_style('whitegrid') # backgroud of plot \n",
        "sns.distplot(negative_df['DeductibleAmtPaid'],label='Negative')\n",
        "sns.distplot(False_negative_df['DeductibleAmtPaid'],label='False_Negative')\n",
        "plt.xticks(size = 12) # size of x axis indicators(yes/no)\n",
        "plt.yticks(size = 12)\n",
        "plt.legend()\n",
        "plt.title('Distribution of DeductibleAmtPaid of False_nge VS Negative', fontsize=20)\n",
        "plt.xlabel('DeductibleAmtPaid', size = 14)\n",
        "plt.ylabel('Density', size = 14)\n",
        "plt.show()"
      ]
    },
    {
      "cell_type": "code",
      "execution_count": null,
      "metadata": {
        "id": "Iga3P03Wahn0",
        "outputId": "66be4579-6a60-4504-8f8a-25ad5655bfda"
      },
      "outputs": [],
      "source": [
        "plt.figure(figsize=(16,6)) # hight and width of plot \n",
        "sns.set_style('whitegrid') # backgroud of plot \n",
        "sns.distplot(positive_df['DeductibleAmtPaid'],label='positive')\n",
        "sns.distplot(false_positive_df['DeductibleAmtPaid'],label='False_Positive')\n",
        "plt.xticks(size = 12) # size of x axis indicators(yes/no)\n",
        "plt.yticks(size = 12)\n",
        "plt.legend()\n",
        "plt.title('Distribution of DeductibleAmtPaid of false_pos VS Positive', fontsize=20)\n",
        "plt.xlabel('DeductibleAmtPaid', size = 14)\n",
        "plt.ylabel('Density', size = 14)\n",
        "plt.show()"
      ]
    },
    {
      "cell_type": "code",
      "execution_count": null,
      "metadata": {
        "id": "cKX0fm9mahn1",
        "outputId": "4a4634b7-dfd7-4223-82f1-f6909a08fa30"
      },
      "outputs": [],
      "source": [
        "plt.figure(figsize=(16,6)) # hight and width of plot \n",
        "sns.set_style('whitegrid') # backgroud of plot \n",
        "sns.distplot(negative_df['InscClaimAmtReimbursed'],label='Negative')\n",
        "sns.distplot(False_negative_df['InscClaimAmtReimbursed'],label='False_Negative')\n",
        "plt.xticks(size = 12) # size of x axis indicators(yes/no)\n",
        "plt.yticks(size = 12)\n",
        "plt.legend()\n",
        "plt.title('Distribution of InscClaimAmtReimbursed of False_Neg VS Negative', fontsize=20)\n",
        "plt.xlabel('InscClaimAmtReimbursed', size = 14)\n",
        "plt.ylabel('Density', size = 14)\n",
        "plt.show()"
      ]
    },
    {
      "cell_type": "code",
      "execution_count": null,
      "metadata": {
        "id": "VwOpwLnyahn1",
        "outputId": "cd488cb1-12f3-4f5f-83e9-8e50d446df35"
      },
      "outputs": [],
      "source": [
        "plt.figure(figsize=(16,6)) # hight and width of plot \n",
        "sns.set_style('whitegrid') # backgroud of plot \n",
        "sns.distplot(positive_df['InscClaimAmtReimbursed'],label='positive')\n",
        "sns.distplot(false_positive_df['InscClaimAmtReimbursed'],label='False_Positive')\n",
        "plt.xticks(size = 12) # size of x axis indicators(yes/no)\n",
        "plt.yticks(size = 12)\n",
        "plt.legend()\n",
        "plt.title('Distribution of InscClaimAmtReimbursed of false_pos VS Positive', fontsize=20)\n",
        "plt.xlabel('InscClaimAmtReimbursed', size = 14)\n",
        "plt.ylabel('Density', size = 14)\n",
        "plt.show()"
      ]
    },
    {
      "cell_type": "code",
      "execution_count": null,
      "metadata": {
        "id": "kFmMhJHmahn1",
        "outputId": "25c7f4d4-e3c7-4e71-973d-a7b754989fae"
      },
      "outputs": [],
      "source": [
        "plt.figure(figsize=(16,6)) # hight and width of plot \n",
        "sns.set_style('whitegrid') # backgroud of plot \n",
        "sns.distplot(negative_df['IPAnnualReimbursementAmt'],label='Negative')\n",
        "sns.distplot(False_negative_df['IPAnnualReimbursementAmt'],label='False_Negative')\n",
        "plt.xticks(size = 12) # size of x axis indicators(yes/no)\n",
        "plt.yticks(size = 12)\n",
        "plt.legend()\n",
        "plt.title('Distribution of IPAnnualReimbursementAmt of False_Neg VS Negative', fontsize=20)\n",
        "plt.xlabel('IPAnnualReimbursementAmt', size = 14)\n",
        "plt.ylabel('Density', size = 14)\n",
        "plt.show()"
      ]
    },
    {
      "cell_type": "code",
      "execution_count": null,
      "metadata": {
        "id": "1EAOk5mOahn1",
        "outputId": "86437077-bdd4-424b-b739-43aad92b5525"
      },
      "outputs": [],
      "source": [
        "plt.figure(figsize=(16,6)) # hight and width of plot \n",
        "sns.set_style('whitegrid') # backgroud of plot \n",
        "sns.distplot(positive_df['IPAnnualReimbursementAmt'],label='positive')\n",
        "sns.distplot(false_positive_df['IPAnnualReimbursementAmt'],label='False_Positive')\n",
        "plt.xticks(size = 12) # size of x axis indicators(yes/no)\n",
        "plt.yticks(size = 12)\n",
        "plt.legend()\n",
        "plt.title('Distribution of IPAnnualReimbursementAmt of false_pos VS Positive', fontsize=20)\n",
        "plt.xlabel('IPAnnualReimbursementAmt', size = 14)\n",
        "plt.ylabel('Density', size = 14)\n",
        "plt.show()"
      ]
    },
    {
      "cell_type": "code",
      "execution_count": null,
      "metadata": {
        "id": "2Xx0hkbFahn1",
        "outputId": "f495604d-f464-4b4a-a845-09a0f2013f7c"
      },
      "outputs": [],
      "source": [
        "plt.figure(figsize=(16,6)) # hight and width of plot \n",
        "sns.set_style('whitegrid') # backgroud of plot \n",
        "sns.distplot(negative_df['IPAnnualDeductibleAmt'],label='Negative')\n",
        "sns.distplot(False_negative_df['IPAnnualDeductibleAmt'],label='False_Negative')\n",
        "plt.xticks(size = 12) # size of x axis indicators(yes/no)\n",
        "plt.yticks(size = 12)\n",
        "plt.legend()\n",
        "plt.title('Distribution of IPAnnualDeductibleAmt of False_Neg VS Negative', fontsize=20)\n",
        "plt.xlabel('IPAnnualDeductibleAmt', size = 14)\n",
        "plt.ylabel('Density', size = 14)\n",
        "plt.show()"
      ]
    },
    {
      "cell_type": "code",
      "execution_count": null,
      "metadata": {
        "id": "G8bmKE5Cahn2",
        "outputId": "4c074276-6310-4a2e-a6f3-ccca4782e747"
      },
      "outputs": [],
      "source": [
        "plt.figure(figsize=(16,6)) # hight and width of plot \n",
        "sns.set_style('whitegrid') # backgroud of plot \n",
        "sns.distplot(positive_df['IPAnnualDeductibleAmt'],label='positive')\n",
        "sns.distplot(false_positive_df['IPAnnualDeductibleAmt'],label='False_Positive')\n",
        "plt.xticks(size = 12) # size of x axis indicators(yes/no)\n",
        "plt.yticks(size = 12)\n",
        "plt.legend()\n",
        "plt.title('Distribution of IPAnnualDeductibleAmt of false_pos VS Positive', fontsize=20)\n",
        "plt.xlabel('IPAnnualDeductibleAmt', size = 14)\n",
        "plt.ylabel('Density', size = 14)\n",
        "plt.show()"
      ]
    },
    {
      "cell_type": "code",
      "execution_count": null,
      "metadata": {
        "id": "FZBM8e0Iahn2",
        "outputId": "add997bf-aafe-4a3c-95cf-e1eb20c5a55e"
      },
      "outputs": [],
      "source": [
        "plt.figure(figsize=(16,6)) # hight and width of plot \n",
        "sns.set_style('whitegrid') # backgroud of plot \n",
        "sns.distplot(negative_df['Total_physican_attended'],label='Negative')\n",
        "sns.distplot(False_negative_df['Total_physican_attended'],label='False_Negative')\n",
        "plt.xticks(size = 12) # size of x axis indicators(yes/no)\n",
        "plt.yticks(size = 12)\n",
        "plt.legend()\n",
        "plt.title('Distribution of Total_physican_attended of False_Neg VS Negative', fontsize=20)\n",
        "plt.xlabel('Total_physican_attended', size = 14)\n",
        "plt.ylabel('Density', size = 14)\n",
        "plt.show()"
      ]
    },
    {
      "cell_type": "code",
      "execution_count": null,
      "metadata": {
        "id": "cRvXqxeTahn2",
        "outputId": "ae6dc6a4-7a58-4207-d575-6ab93b92b4e5"
      },
      "outputs": [],
      "source": [
        "plt.figure(figsize=(16,6)) # hight and width of plot \n",
        "sns.set_style('whitegrid') # backgroud of plot \n",
        "sns.distplot(positive_df['Total_physican_attended'],label='positive')\n",
        "sns.distplot(false_positive_df['Total_physican_attended'],label='False_Positive')\n",
        "plt.xticks(size = 12) # size of x axis indicators(yes/no)\n",
        "plt.yticks(size = 12)\n",
        "plt.legend()\n",
        "plt.title('Distribution of Total_physican_attended of false_pos VS Positive', fontsize=20)\n",
        "plt.xlabel('Total_physican_attended', size = 14)\n",
        "plt.ylabel('Density', size = 14)\n",
        "plt.show()"
      ]
    },
    {
      "cell_type": "code",
      "execution_count": null,
      "metadata": {
        "id": "iNtNUk-oahn2",
        "outputId": "ae90abdc-09fa-48f5-e5a7-ef4c4bd8f5ca"
      },
      "outputs": [],
      "source": [
        "plt.figure(figsize=(16,6)) # hight and width of plot \n",
        "sns.set_style('whitegrid') # backgroud of plot \n",
        "sns.distplot(negative_df['Total_ClmProcedureCode'],label='Negative')\n",
        "sns.distplot(False_negative_df['Total_ClmProcedureCode'],label='False_Negative')\n",
        "plt.xticks(size = 12) # size of x axis indicators(yes/no)\n",
        "plt.yticks(size = 12)\n",
        "plt.legend()\n",
        "plt.title('Distribution of Total_ClmProcedureCode of False_Neg VS Negative', fontsize=20)\n",
        "plt.xlabel('Total_ClmProcedureCode', size = 14)\n",
        "plt.ylabel('Density', size = 14)\n",
        "plt.show()"
      ]
    },
    {
      "cell_type": "code",
      "execution_count": null,
      "metadata": {
        "id": "yuda8kSZahn2",
        "outputId": "85b7ee13-1ba9-4c5f-81ab-b1ccec184651"
      },
      "outputs": [],
      "source": [
        "plt.figure(figsize=(16,6)) # hight and width of plot \n",
        "sns.set_style('whitegrid') # backgroud of plot \n",
        "sns.distplot(positive_df['Total_ClmProcedureCode'],label='positive')\n",
        "sns.distplot(false_positive_df['Total_ClmProcedureCode'],label='False_Positive')\n",
        "plt.xticks(size = 12) # size of x axis indicators(yes/no)\n",
        "plt.yticks(size = 12)\n",
        "plt.legend()\n",
        "plt.title('Distribution of Total_ClmProcedureCode of false_pos VS Positive', fontsize=20)\n",
        "plt.xlabel('Total_ClmProcedureCode', size = 14)\n",
        "plt.ylabel('Density', size = 14)\n",
        "plt.show()"
      ]
    },
    {
      "attachments": {},
      "cell_type": "markdown",
      "metadata": {
        "id": "qkvBbfsnahn2"
      },
      "source": [
        "#### Observations\n",
        "From the above analysis we can say that the distribution of the false negative data and negative data is very similar.same for the false positve.\n",
        "therefor our model is predicting some of the same diributed data points incorrect."
      ]
    },
    {
      "attachments": {},
      "cell_type": "markdown",
      "metadata": {
        "id": "_7PnjucIahn3"
      },
      "source": [
        "## Deployment on Heroku\n",
        "\n",
        "\n",
        "\n",
        "1. https://healthcare-fraud-api.herokuapp.com/index "
      ]
    },
    {
      "cell_type": "code",
      "execution_count": null,
      "metadata": {
        "id": "xznIb-EKahn3"
      },
      "outputs": [],
      "source": []
    }
  ],
  "metadata": {
    "colab": {
      "provenance": [],
      "toc_visible": true
    },
    "kernelspec": {
      "display_name": "Python 3",
      "language": "python",
      "name": "python3"
    },
    "language_info": {
      "codemirror_mode": {
        "name": "ipython",
        "version": 3
      },
      "file_extension": ".py",
      "mimetype": "text/x-python",
      "name": "python",
      "nbconvert_exporter": "python",
      "pygments_lexer": "ipython3",
      "version": "3.11.0"
    }
  },
  "nbformat": 4,
  "nbformat_minor": 0
}
